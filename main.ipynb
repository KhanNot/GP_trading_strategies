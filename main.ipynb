{
 "cells": [
  {
   "cell_type": "code",
   "execution_count": 11,
   "metadata": {},
   "outputs": [],
   "source": [
    "import yfinance as yf\n",
    "import pandas as pd\n",
    "# from functions import moving_average"
   ]
  },
  {
   "cell_type": "code",
   "execution_count": 12,
   "metadata": {},
   "outputs": [],
   "source": [
    "\n",
    "btc_ts = yf.Ticker(\"BTC-USD\").history(start='2023-01-01', end='2023-01-20')"
   ]
  },
  {
   "cell_type": "code",
   "execution_count": 13,
   "metadata": {},
   "outputs": [
    {
     "data": {
      "text/html": [
       "<div>\n",
       "<style scoped>\n",
       "    .dataframe tbody tr th:only-of-type {\n",
       "        vertical-align: middle;\n",
       "    }\n",
       "\n",
       "    .dataframe tbody tr th {\n",
       "        vertical-align: top;\n",
       "    }\n",
       "\n",
       "    .dataframe thead th {\n",
       "        text-align: right;\n",
       "    }\n",
       "</style>\n",
       "<table border=\"1\" class=\"dataframe\">\n",
       "  <thead>\n",
       "    <tr style=\"text-align: right;\">\n",
       "      <th></th>\n",
       "      <th>Open</th>\n",
       "      <th>High</th>\n",
       "      <th>Low</th>\n",
       "      <th>Close</th>\n",
       "      <th>Volume</th>\n",
       "      <th>Dividends</th>\n",
       "      <th>Stock Splits</th>\n",
       "    </tr>\n",
       "    <tr>\n",
       "      <th>Date</th>\n",
       "      <th></th>\n",
       "      <th></th>\n",
       "      <th></th>\n",
       "      <th></th>\n",
       "      <th></th>\n",
       "      <th></th>\n",
       "      <th></th>\n",
       "    </tr>\n",
       "  </thead>\n",
       "  <tbody>\n",
       "    <tr>\n",
       "      <th>2023-01-01 00:00:00+00:00</th>\n",
       "      <td>16547.914062</td>\n",
       "      <td>16630.439453</td>\n",
       "      <td>16521.234375</td>\n",
       "      <td>16625.080078</td>\n",
       "      <td>9244361700</td>\n",
       "      <td>0.0</td>\n",
       "      <td>0.0</td>\n",
       "    </tr>\n",
       "    <tr>\n",
       "      <th>2023-01-02 00:00:00+00:00</th>\n",
       "      <td>16625.509766</td>\n",
       "      <td>16759.343750</td>\n",
       "      <td>16572.228516</td>\n",
       "      <td>16688.470703</td>\n",
       "      <td>12097775227</td>\n",
       "      <td>0.0</td>\n",
       "      <td>0.0</td>\n",
       "    </tr>\n",
       "    <tr>\n",
       "      <th>2023-01-03 00:00:00+00:00</th>\n",
       "      <td>16688.847656</td>\n",
       "      <td>16760.447266</td>\n",
       "      <td>16622.371094</td>\n",
       "      <td>16679.857422</td>\n",
       "      <td>13903079207</td>\n",
       "      <td>0.0</td>\n",
       "      <td>0.0</td>\n",
       "    </tr>\n",
       "    <tr>\n",
       "      <th>2023-01-04 00:00:00+00:00</th>\n",
       "      <td>16680.205078</td>\n",
       "      <td>16964.585938</td>\n",
       "      <td>16667.763672</td>\n",
       "      <td>16863.238281</td>\n",
       "      <td>18421743322</td>\n",
       "      <td>0.0</td>\n",
       "      <td>0.0</td>\n",
       "    </tr>\n",
       "    <tr>\n",
       "      <th>2023-01-05 00:00:00+00:00</th>\n",
       "      <td>16863.472656</td>\n",
       "      <td>16884.021484</td>\n",
       "      <td>16790.283203</td>\n",
       "      <td>16836.736328</td>\n",
       "      <td>13692758566</td>\n",
       "      <td>0.0</td>\n",
       "      <td>0.0</td>\n",
       "    </tr>\n",
       "    <tr>\n",
       "      <th>2023-01-06 00:00:00+00:00</th>\n",
       "      <td>16836.472656</td>\n",
       "      <td>16991.994141</td>\n",
       "      <td>16716.421875</td>\n",
       "      <td>16951.968750</td>\n",
       "      <td>14413662913</td>\n",
       "      <td>0.0</td>\n",
       "      <td>0.0</td>\n",
       "    </tr>\n",
       "    <tr>\n",
       "      <th>2023-01-07 00:00:00+00:00</th>\n",
       "      <td>16952.117188</td>\n",
       "      <td>16975.017578</td>\n",
       "      <td>16914.191406</td>\n",
       "      <td>16955.078125</td>\n",
       "      <td>7714767174</td>\n",
       "      <td>0.0</td>\n",
       "      <td>0.0</td>\n",
       "    </tr>\n",
       "    <tr>\n",
       "      <th>2023-01-08 00:00:00+00:00</th>\n",
       "      <td>16954.146484</td>\n",
       "      <td>17091.144531</td>\n",
       "      <td>16924.050781</td>\n",
       "      <td>17091.144531</td>\n",
       "      <td>9768827914</td>\n",
       "      <td>0.0</td>\n",
       "      <td>0.0</td>\n",
       "    </tr>\n",
       "    <tr>\n",
       "      <th>2023-01-09 00:00:00+00:00</th>\n",
       "      <td>17093.992188</td>\n",
       "      <td>17389.957031</td>\n",
       "      <td>17093.992188</td>\n",
       "      <td>17196.554688</td>\n",
       "      <td>18624736866</td>\n",
       "      <td>0.0</td>\n",
       "      <td>0.0</td>\n",
       "    </tr>\n",
       "    <tr>\n",
       "      <th>2023-01-10 00:00:00+00:00</th>\n",
       "      <td>17192.949219</td>\n",
       "      <td>17484.720703</td>\n",
       "      <td>17162.990234</td>\n",
       "      <td>17446.292969</td>\n",
       "      <td>15808338949</td>\n",
       "      <td>0.0</td>\n",
       "      <td>0.0</td>\n",
       "    </tr>\n",
       "    <tr>\n",
       "      <th>2023-01-11 00:00:00+00:00</th>\n",
       "      <td>17446.359375</td>\n",
       "      <td>17934.896484</td>\n",
       "      <td>17337.994141</td>\n",
       "      <td>17934.896484</td>\n",
       "      <td>18372283782</td>\n",
       "      <td>0.0</td>\n",
       "      <td>0.0</td>\n",
       "    </tr>\n",
       "    <tr>\n",
       "      <th>2023-01-12 00:00:00+00:00</th>\n",
       "      <td>18117.593750</td>\n",
       "      <td>19030.087891</td>\n",
       "      <td>17995.203125</td>\n",
       "      <td>18869.587891</td>\n",
       "      <td>34971338710</td>\n",
       "      <td>0.0</td>\n",
       "      <td>0.0</td>\n",
       "    </tr>\n",
       "    <tr>\n",
       "      <th>2023-01-13 00:00:00+00:00</th>\n",
       "      <td>18868.906250</td>\n",
       "      <td>19964.322266</td>\n",
       "      <td>18753.164062</td>\n",
       "      <td>19909.574219</td>\n",
       "      <td>29225029694</td>\n",
       "      <td>0.0</td>\n",
       "      <td>0.0</td>\n",
       "    </tr>\n",
       "    <tr>\n",
       "      <th>2023-01-14 00:00:00+00:00</th>\n",
       "      <td>19910.537109</td>\n",
       "      <td>21075.142578</td>\n",
       "      <td>19907.828125</td>\n",
       "      <td>20976.298828</td>\n",
       "      <td>38967784639</td>\n",
       "      <td>0.0</td>\n",
       "      <td>0.0</td>\n",
       "    </tr>\n",
       "    <tr>\n",
       "      <th>2023-01-15 00:00:00+00:00</th>\n",
       "      <td>20977.484375</td>\n",
       "      <td>20993.748047</td>\n",
       "      <td>20606.986328</td>\n",
       "      <td>20880.798828</td>\n",
       "      <td>19298407543</td>\n",
       "      <td>0.0</td>\n",
       "      <td>0.0</td>\n",
       "    </tr>\n",
       "    <tr>\n",
       "      <th>2023-01-16 00:00:00+00:00</th>\n",
       "      <td>20882.224609</td>\n",
       "      <td>21360.875000</td>\n",
       "      <td>20715.746094</td>\n",
       "      <td>21169.632812</td>\n",
       "      <td>26792494050</td>\n",
       "      <td>0.0</td>\n",
       "      <td>0.0</td>\n",
       "    </tr>\n",
       "    <tr>\n",
       "      <th>2023-01-17 00:00:00+00:00</th>\n",
       "      <td>21175.833984</td>\n",
       "      <td>21438.660156</td>\n",
       "      <td>20978.533203</td>\n",
       "      <td>21161.519531</td>\n",
       "      <td>24999983362</td>\n",
       "      <td>0.0</td>\n",
       "      <td>0.0</td>\n",
       "    </tr>\n",
       "    <tr>\n",
       "      <th>2023-01-18 00:00:00+00:00</th>\n",
       "      <td>21161.050781</td>\n",
       "      <td>21564.501953</td>\n",
       "      <td>20541.544922</td>\n",
       "      <td>20688.781250</td>\n",
       "      <td>30005625418</td>\n",
       "      <td>0.0</td>\n",
       "      <td>0.0</td>\n",
       "    </tr>\n",
       "    <tr>\n",
       "      <th>2023-01-19 00:00:00+00:00</th>\n",
       "      <td>20686.746094</td>\n",
       "      <td>21163.011719</td>\n",
       "      <td>20685.380859</td>\n",
       "      <td>21086.792969</td>\n",
       "      <td>21152848261</td>\n",
       "      <td>0.0</td>\n",
       "      <td>0.0</td>\n",
       "    </tr>\n",
       "  </tbody>\n",
       "</table>\n",
       "</div>"
      ],
      "text/plain": [
       "                                   Open          High           Low  \\\n",
       "Date                                                                  \n",
       "2023-01-01 00:00:00+00:00  16547.914062  16630.439453  16521.234375   \n",
       "2023-01-02 00:00:00+00:00  16625.509766  16759.343750  16572.228516   \n",
       "2023-01-03 00:00:00+00:00  16688.847656  16760.447266  16622.371094   \n",
       "2023-01-04 00:00:00+00:00  16680.205078  16964.585938  16667.763672   \n",
       "2023-01-05 00:00:00+00:00  16863.472656  16884.021484  16790.283203   \n",
       "2023-01-06 00:00:00+00:00  16836.472656  16991.994141  16716.421875   \n",
       "2023-01-07 00:00:00+00:00  16952.117188  16975.017578  16914.191406   \n",
       "2023-01-08 00:00:00+00:00  16954.146484  17091.144531  16924.050781   \n",
       "2023-01-09 00:00:00+00:00  17093.992188  17389.957031  17093.992188   \n",
       "2023-01-10 00:00:00+00:00  17192.949219  17484.720703  17162.990234   \n",
       "2023-01-11 00:00:00+00:00  17446.359375  17934.896484  17337.994141   \n",
       "2023-01-12 00:00:00+00:00  18117.593750  19030.087891  17995.203125   \n",
       "2023-01-13 00:00:00+00:00  18868.906250  19964.322266  18753.164062   \n",
       "2023-01-14 00:00:00+00:00  19910.537109  21075.142578  19907.828125   \n",
       "2023-01-15 00:00:00+00:00  20977.484375  20993.748047  20606.986328   \n",
       "2023-01-16 00:00:00+00:00  20882.224609  21360.875000  20715.746094   \n",
       "2023-01-17 00:00:00+00:00  21175.833984  21438.660156  20978.533203   \n",
       "2023-01-18 00:00:00+00:00  21161.050781  21564.501953  20541.544922   \n",
       "2023-01-19 00:00:00+00:00  20686.746094  21163.011719  20685.380859   \n",
       "\n",
       "                                  Close       Volume  Dividends  Stock Splits  \n",
       "Date                                                                           \n",
       "2023-01-01 00:00:00+00:00  16625.080078   9244361700        0.0           0.0  \n",
       "2023-01-02 00:00:00+00:00  16688.470703  12097775227        0.0           0.0  \n",
       "2023-01-03 00:00:00+00:00  16679.857422  13903079207        0.0           0.0  \n",
       "2023-01-04 00:00:00+00:00  16863.238281  18421743322        0.0           0.0  \n",
       "2023-01-05 00:00:00+00:00  16836.736328  13692758566        0.0           0.0  \n",
       "2023-01-06 00:00:00+00:00  16951.968750  14413662913        0.0           0.0  \n",
       "2023-01-07 00:00:00+00:00  16955.078125   7714767174        0.0           0.0  \n",
       "2023-01-08 00:00:00+00:00  17091.144531   9768827914        0.0           0.0  \n",
       "2023-01-09 00:00:00+00:00  17196.554688  18624736866        0.0           0.0  \n",
       "2023-01-10 00:00:00+00:00  17446.292969  15808338949        0.0           0.0  \n",
       "2023-01-11 00:00:00+00:00  17934.896484  18372283782        0.0           0.0  \n",
       "2023-01-12 00:00:00+00:00  18869.587891  34971338710        0.0           0.0  \n",
       "2023-01-13 00:00:00+00:00  19909.574219  29225029694        0.0           0.0  \n",
       "2023-01-14 00:00:00+00:00  20976.298828  38967784639        0.0           0.0  \n",
       "2023-01-15 00:00:00+00:00  20880.798828  19298407543        0.0           0.0  \n",
       "2023-01-16 00:00:00+00:00  21169.632812  26792494050        0.0           0.0  \n",
       "2023-01-17 00:00:00+00:00  21161.519531  24999983362        0.0           0.0  \n",
       "2023-01-18 00:00:00+00:00  20688.781250  30005625418        0.0           0.0  \n",
       "2023-01-19 00:00:00+00:00  21086.792969  21152848261        0.0           0.0  "
      ]
     },
     "execution_count": 13,
     "metadata": {},
     "output_type": "execute_result"
    }
   ],
   "source": [
    "btc_ts"
   ]
  },
  {
   "cell_type": "code",
   "execution_count": 14,
   "metadata": {},
   "outputs": [
    {
     "data": {
      "text/plain": [
       "Date\n",
       "2023-01-01 00:00:00+00:00             NaN\n",
       "2023-01-02 00:00:00+00:00             NaN\n",
       "2023-01-03 00:00:00+00:00             NaN\n",
       "2023-01-04 00:00:00+00:00             NaN\n",
       "2023-01-05 00:00:00+00:00             NaN\n",
       "2023-01-06 00:00:00+00:00             NaN\n",
       "2023-01-07 00:00:00+00:00             NaN\n",
       "2023-01-08 00:00:00+00:00             NaN\n",
       "2023-01-09 00:00:00+00:00             NaN\n",
       "2023-01-10 00:00:00+00:00    16843.562695\n",
       "2023-01-11 00:00:00+00:00    16933.407227\n",
       "2023-01-12 00:00:00+00:00    17082.615625\n",
       "2023-01-13 00:00:00+00:00    17300.621484\n",
       "2023-01-14 00:00:00+00:00    17623.654687\n",
       "2023-01-15 00:00:00+00:00    18035.055859\n",
       "2023-01-16 00:00:00+00:00    18439.631055\n",
       "2023-01-17 00:00:00+00:00    18862.002734\n",
       "2023-01-18 00:00:00+00:00    19282.693164\n",
       "2023-01-19 00:00:00+00:00    19641.968555\n",
       "Name: Open, dtype: float64"
      ]
     },
     "execution_count": 14,
     "metadata": {},
     "output_type": "execute_result"
    }
   ],
   "source": [
    "btc_ts['Open'].rolling(10).mean()"
   ]
  },
  {
   "cell_type": "code",
   "execution_count": 15,
   "metadata": {},
   "outputs": [
    {
     "data": {
      "text/plain": [
       "np.float64(19641.9685546875)"
      ]
     },
     "execution_count": 15,
     "metadata": {},
     "output_type": "execute_result"
    }
   ],
   "source": [
    "btc_ts['Open'].iloc[-10:].mean()"
   ]
  },
  {
   "cell_type": "code",
   "execution_count": 16,
   "metadata": {},
   "outputs": [],
   "source": [
    "import random\n",
    "import numpy as np"
   ]
  },
  {
   "cell_type": "markdown",
   "metadata": {},
   "source": [
    "Maximum Theoretical Profit:"
   ]
  },
  {
   "cell_type": "code",
   "execution_count": 17,
   "metadata": {},
   "outputs": [],
   "source": [
    "btc_ts_open = btc_ts['Open']"
   ]
  },
  {
   "cell_type": "code",
   "execution_count": 18,
   "metadata": {},
   "outputs": [],
   "source": [
    "\n",
    "tc=1/100"
   ]
  },
  {
   "cell_type": "code",
   "execution_count": 19,
   "metadata": {},
   "outputs": [
    {
     "data": {
      "text/plain": [
       "np.float64(16547.9140625)"
      ]
     },
     "execution_count": 19,
     "metadata": {},
     "output_type": "execute_result"
    }
   ],
   "source": [
    "start=btc_ts_open.iloc[0]\n",
    "start"
   ]
  },
  {
   "cell_type": "code",
   "execution_count": 20,
   "metadata": {},
   "outputs": [
    {
     "data": {
      "image/png": "[encoded data removed]",
      "text/plain": [
       "<Figure size 640x480 with 1 Axes>"
      ]
     },
     "metadata": {},
     "output_type": "display_data"
    }
   ],
   "source": [
    "import matplotlib.pyplot as plt\n",
    "from scipy.misc import electrocardiogram\n",
    "from scipy.signal import find_peaks\n",
    "import numpy as np\n",
    "\n",
    "x = btc_ts_open.reset_index()['Open']\n",
    "peaks, _ = find_peaks(x)\n",
    "troughs, _ = find_peaks(-x)\n",
    "plt.plot(x.index,x)\n",
    "plt.plot(peaks, x.iloc[peaks],\"x\")\n",
    "plt.plot(troughs, x.iloc[troughs],\"x\")\n",
    "# plt.plot(np.zeros_like(x), \"--\", color=\"gray\")\n",
    "plt.show()"
   ]
  },
  {
   "cell_type": "code",
   "execution_count": 21,
   "metadata": {},
   "outputs": [
    {
     "data": {
      "text/plain": [
       "[np.int64(2), np.int64(4), np.int64(14), np.int64(16)]"
      ]
     },
     "execution_count": 21,
     "metadata": {},
     "output_type": "execute_result"
    }
   ],
   "source": [
    "list(peaks)"
   ]
  },
  {
   "cell_type": "code",
   "execution_count": 22,
   "metadata": {},
   "outputs": [
    {
     "data": {
      "text/plain": [
       "[0,\n",
       " np.int64(2),\n",
       " np.int64(3),\n",
       " np.int64(4),\n",
       " np.int64(5),\n",
       " np.int64(14),\n",
       " np.int64(15),\n",
       " np.int64(16),\n",
       " 18]"
      ]
     },
     "execution_count": 22,
     "metadata": {},
     "output_type": "execute_result"
    }
   ],
   "source": [
    "peaks_troughs = list(peaks)+list(troughs)\n",
    "#Add the enedpoints to the local maximum and minimums.\n",
    "if 0 not in peaks_troughs:\n",
    "    peaks_troughs.append(0)\n",
    "if len(btc_ts_open)-1 not in peaks_troughs:\n",
    "    peaks_troughs.append(len(btc_ts_open)-1)\n",
    "\n",
    "peaks_troughs = sorted(peaks_troughs)\n",
    "peaks_troughs"
   ]
  },
  {
   "cell_type": "code",
   "execution_count": 23,
   "metadata": {},
   "outputs": [
    {
     "data": {
      "text/plain": [
       "[0,\n",
       " np.int64(2),\n",
       " np.int64(3),\n",
       " np.int64(4),\n",
       " np.int64(5),\n",
       " np.int64(14),\n",
       " np.int64(15),\n",
       " np.int64(16),\n",
       " 18]"
      ]
     },
     "execution_count": 23,
     "metadata": {},
     "output_type": "execute_result"
    }
   ],
   "source": [
    "peaks_troughs"
   ]
  },
  {
   "cell_type": "code",
   "execution_count": 24,
   "metadata": {},
   "outputs": [
    {
     "data": {
      "text/plain": [
       "<Axes: xlabel='Date'>"
      ]
     },
     "execution_count": 24,
     "metadata": {},
     "output_type": "execute_result"
    },
    {
     "data": {
      "image/png": "[encoded data removed]",
      "text/plain": [
       "<Figure size 640x480 with 1 Axes>"
      ]
     },
     "metadata": {},
     "output_type": "display_data"
    }
   ],
   "source": [
    "btc_ts_open.plot(color = 'k')\n",
    "btc_ts_open.iloc[peaks_troughs].plot(alpha = 0.5, color = 'r')"
   ]
  },
  {
   "cell_type": "code",
   "execution_count": 25,
   "metadata": {},
   "outputs": [
    {
     "name": "stdout",
     "output_type": "stream",
     "text": [
      "5621.143261718753\n"
     ]
    }
   ],
   "source": [
    "profit=0\n",
    "for i,val in enumerate(btc_ts_open.iloc[peaks_troughs]):\n",
    "    if i>1 and val*(1+tc) > btc_ts_open.iloc[peaks_troughs].iloc[i-1]:\n",
    "        profit += val*(1+tc) - btc_ts_open.iloc[peaks_troughs].iloc[i-1]\n",
    "    \n",
    "    if i>1 and val < btc_ts_open.iloc[peaks_troughs].iloc[i-1]:\n",
    "        continue\n",
    "\n",
    "print(profit)"
   ]
  },
  {
   "cell_type": "code",
   "execution_count": 36,
   "metadata": {},
   "outputs": [],
   "source": [
    "import matplotlib.pyplot as plt\n",
    "from scipy.misc import electrocardiogram\n",
    "from scipy.signal import find_peaks\n",
    "import numpy as np\n",
    "\n",
    "\n",
    "def maximum_theoretical_profit(df: pd.DataFrame, val: int|float =1000, tc: int|float =0.01 ):\n",
    "    btc_ts_open = df['Open']\n",
    "    x = btc_ts_open.reset_index()['Open']\n",
    "\n",
    "    # Get peaks and troughs\n",
    "    peaks, _ = find_peaks(x)\n",
    "    troughs, _ = find_peaks(-x)\n",
    "\n",
    "    peaks_troughs = list(peaks)+list(troughs)\n",
    "    #Add the enedpoints to the local maximum and minimums.\n",
    "    if 0 not in peaks_troughs:\n",
    "        peaks_troughs.append(0)\n",
    "    if len(btc_ts_open)-1 not in peaks_troughs:\n",
    "        peaks_troughs.append(len(btc_ts_open)-1)\n",
    "\n",
    "    peaks_troughs = sorted(peaks_troughs)\n",
    "    peaks_troughs\n",
    "\n",
    "    #Work out maximum theoretical value using an nitial investement of $1000 by default.\n",
    "    profit=0\n",
    "    val =1000\n",
    "    for ind,price in enumerate(btc_ts_open.iloc[peaks_troughs]):\n",
    "        if ind>1 and price*(1+tc) > btc_ts_open.iloc[peaks_troughs].iloc[ind-1]:\n",
    "            profit += price*(1+tc) - btc_ts_open.iloc[peaks_troughs].iloc[ind-1]\n",
    "\n",
    "            shares_buy = val*(1-tc)/btc_ts_open.iloc[peaks_troughs].iloc[ind-1]\n",
    "            val = shares_buy*price*(1-tc)\n",
    "            \n",
    "    print(val)"
   ]
  },
  {
   "cell_type": "code",
   "execution_count": 37,
   "metadata": {},
   "outputs": [
    {
     "name": "stdout",
     "output_type": "stream",
     "text": [
      "1124.6995164877612\n"
     ]
    }
   ],
   "source": [
    "maximum_theoretical_profit(btc_ts)"
   ]
  },
  {
   "cell_type": "code",
   "execution_count": 27,
   "metadata": {},
   "outputs": [
    {
     "data": {
      "text/plain": [
       "np.float64(16688.84765625)"
      ]
     },
     "execution_count": 27,
     "metadata": {},
     "output_type": "execute_result"
    }
   ],
   "source": [
    "btc_ts_open.iloc[peaks_troughs].iloc[1]"
   ]
  },
  {
   "cell_type": "code",
   "execution_count": 28,
   "metadata": {},
   "outputs": [
    {
     "data": {
      "text/plain": [
       "Date\n",
       "2023-01-01 00:00:00+00:00             NaN\n",
       "2023-01-02 00:00:00+00:00    16547.914062\n",
       "2023-01-03 00:00:00+00:00    16625.509766\n",
       "2023-01-04 00:00:00+00:00    16688.847656\n",
       "2023-01-05 00:00:00+00:00    16680.205078\n",
       "2023-01-06 00:00:00+00:00    16863.472656\n",
       "2023-01-07 00:00:00+00:00    16836.472656\n",
       "2023-01-08 00:00:00+00:00    16952.117188\n",
       "2023-01-09 00:00:00+00:00    16954.146484\n",
       "2023-01-10 00:00:00+00:00    17093.992188\n",
       "2023-01-11 00:00:00+00:00    17192.949219\n",
       "2023-01-12 00:00:00+00:00    17446.359375\n",
       "2023-01-13 00:00:00+00:00    18117.593750\n",
       "2023-01-14 00:00:00+00:00    18868.906250\n",
       "2023-01-15 00:00:00+00:00    19910.537109\n",
       "2023-01-16 00:00:00+00:00    20977.484375\n",
       "2023-01-17 00:00:00+00:00    20882.224609\n",
       "2023-01-18 00:00:00+00:00    21175.833984\n",
       "2023-01-19 00:00:00+00:00    21161.050781\n",
       "Name: Open, dtype: float64"
      ]
     },
     "execution_count": 28,
     "metadata": {},
     "output_type": "execute_result"
    }
   ],
   "source": [
    "btc_ts_open.shift(1)"
   ]
  },
  {
   "cell_type": "code",
   "execution_count": null,
   "metadata": {},
   "outputs": [],
   "source": []
  }
 ],
 "metadata": {
  "kernelspec": {
   "display_name": ".venv",
   "language": "python",
   "name": "python3"
  },
  "language_info": {
   "codemirror_mode": {
    "name": "ipython",
    "version": 3
   },
   "file_extension": ".py",
   "mimetype": "text/x-python",
   "name": "python",
   "nbconvert_exporter": "python",
   "pygments_lexer": "ipython3",
   "version": "3.12.4"
  }
 },
 "nbformat": 4,
 "nbformat_minor": 2
}
