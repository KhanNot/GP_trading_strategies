{
 "cells": [
  {
   "cell_type": "code",
   "execution_count": null,
   "metadata": {},
   "outputs": [],
   "source": [
    "import pickle\n",
    "import pandas as pd\n",
    "import os\n",
    "import yfinance as yf\n",
    "from utils.plot_decision_trees import plot_tree\n",
    "\n",
    "\n",
    "from utils.pre_process_data import get_data\n",
    "from math import ceil\n",
    "from utils.units import Volume, Dollar\n",
    "from deap import gp, creator, base, tools\n",
    "from deap.gp import Terminal\n",
    "from operator import or_, and_, gt\n",
    "from fitness_functions import *\n",
    "from utils.plot_decision_trees import plot_tree\n",
    "from utils.save_info import save_results\n",
    "from genetic_functions.cx_functions import cxSubTree\n",
    "from genetic_functions.mut_functions import mutation_half, mutBranch\n",
    "from genetic_functions.genetic_program import GPAlgo\n",
    "import matplotlib.pyplot as plt\n",
    "import pendulum\n"
   ]
  },
  {
   "cell_type": "code",
   "execution_count": null,
   "metadata": {},
   "outputs": [],
   "source": [
    "eth_ts = get_data(\n",
    "        ticker = \"ETH-USD\", \n",
    "        start='2016-01-01', \n",
    "        end='2024-06-30',\n",
    "        ma_lags = 50,\n",
    "        lag_lags = 50,\n",
    "        pers_col_num = 10\n",
    "    )"
   ]
  },
  {
   "cell_type": "code",
   "execution_count": null,
   "metadata": {},
   "outputs": [],
   "source": [
    "df = get_data()\n",
    "df_train= df.iloc[ : ceil(len(df)*0.7)]\n",
    "df_test= df.iloc[ceil(len(df)*0.7) : ]\n",
    "\n",
    "arg_names = list(df_train.columns)\n",
    "vol_args = [arg for arg in arg_names if \"volume\" in arg.lower()]\n",
    "dol_args = [arg for arg in arg_names if \"volume\" not in arg.lower()]\n",
    "\n",
    "\n",
    "pset = gp.PrimitiveSetTyped(\"main\",[Volume]*len(vol_args) + [Dollar]*len(dol_args),bool)\n",
    "        #Rename the arguments:\n",
    "arg_vol_mapping = {f\"ARG{ind}\": val for ind,val in enumerate(vol_args)}\n",
    "pset.renameArguments(**arg_vol_mapping)\n",
    "arg_dol_mapping = {f\"ARG{len(vol_args)+ind}\": val for ind,val in enumerate(dol_args)}\n",
    "pset.renameArguments(**arg_dol_mapping)\n",
    "#Check that all arguments were renamed:\n",
    "unnamed_args=[i for i in pset.arguments if \"ARG\" in i]\n",
    "if  unnamed_args:\n",
    "    print(f\"Some arguments were not renamed: {unnamed_args}\")\n",
    "pset.addPrimitive(gt, [Dollar,Dollar],bool)\n",
    "pset.addPrimitive(lambda x:x ,[Dollar],Dollar, name=\"dollar placeholder\")\n",
    "\n",
    "pset.addPrimitive(gt, [Volume,Volume],bool)\n",
    "pset.addPrimitive(lambda x:x ,[Volume],Volume, name=\"volume placeholder\")\n",
    "\n",
    "\n",
    "#Boolean operators:\n",
    "pset.addPrimitive(and_, [bool,bool],bool)\n",
    "pset.addPrimitive(or_,[bool,bool],bool)\n",
    "\n",
    "for v_arg in vol_args:\n",
    "        pset.addTerminal(v_arg,Volume)\n",
    "for d_arg in dol_args:\n",
    "        pset.addTerminal(d_arg,Dollar)\n",
    "\n",
    "# --- Remove all the ARG terminals ---\n",
    "pset.terminals[Volume] = [i for i in pset.terminals[Volume] if \"ARG\" not in i.name]\n",
    "pset.terminals[Dollar] = [i for i in pset.terminals[Dollar] if \"ARG\" not in i.name]\n",
    "\n",
    "def generate(pset):\n",
    "    run=True\n",
    "    while run:\n",
    "        try:\n",
    "            expr = toolbox.individual()            \n",
    "            #Remove all the Lambda functions:\n",
    "            expr=  list(filter(lambda x: x.name!=\"dollar placeholder\", expr))\n",
    "            expr=  list(filter(lambda x: x.name!=\"volume placeholder\", expr))\n",
    "            if len(expr)>3:\n",
    "                run=False\n",
    "        except IndexError:\n",
    "            continue\n",
    "    # return gp.PrimitiveTree(expr)\n",
    "    return creator.Individual(expr)\n",
    "\n",
    "# --- GP OPERATORS ----\n",
    "\n",
    "creator.create(\"fitness\", base.Fitness, weights=(1,))\n",
    "creator.create(\"Individual\", gp.PrimitiveTree, fitness= creator.fitness)\n",
    "\n",
    "toolbox = base.Toolbox()\n",
    "toolbox.register(\"expr\", gp.genHalfAndHalf, pset=pset, min_=1, max_=5)\n",
    "toolbox.register(\"individual\", tools.initIterate, creator.Individual, toolbox.expr)\n",
    "toolbox.register(\"custom_individual\",generate, pset)\n",
    "toolbox.register(\"population\", tools.initRepeat, list, toolbox.custom_individual)\n",
    "toolbox.register(\"evaluate\", fitness_function, df=df_train, pset=pset)\n",
    "\n",
    "toolbox.register(\"mate\",       cxSubTree)\n",
    "toolbox.register(\"select\",     tools.selRanked) \n",
    "toolbox.register(\"mutate\",     mutation_half, pset=pset)\n",
    "\n",
    "hof   = tools.HallOfFame(maxsize=50)\n",
    "\n",
    "#STATS:\n",
    "stats = tools.Statistics(lambda ind: ind.fitness.values)\n",
    "stats.register(\"avg\", np.mean, axis=0) \n",
    "stats.register(\"std\", np.std, axis=0)\n",
    "stats.register(\"min\", np.min, axis=0)\n",
    "stats.register(\"max\", np.max, axis=0)"
   ]
  },
  {
   "cell_type": "code",
   "execution_count": null,
   "metadata": {},
   "outputs": [],
   "source": [
    "run_list = os.listdir(\"results_run3_gen2\")"
   ]
  },
  {
   "cell_type": "code",
   "execution_count": null,
   "metadata": {},
   "outputs": [],
   "source": [
    "best_sol_pop = []\n",
    "base_dir = r\"\"\n",
    "for dir in run_list:\n",
    "    if os.path.isdir(rf\"{base_dir}\\results_run3_gen2\\{dir}\") and \"run\" in dir:\n",
    "        with open(rf\"{base_dir}\\results_run3_gen2\\{dir}\\hof.pkl\", 'rb') as file:\n",
    "        # Serialize the object and write it to the file\n",
    "            try:\n",
    "                hof = pickle.load(file)\n",
    "                for i in range(10):\n",
    "                    best_sol_pop.append(hof[i])\n",
    "            except:\n",
    "                print(dir,\" File not found.\")"
   ]
  },
  {
   "cell_type": "code",
   "execution_count": null,
   "metadata": {},
   "outputs": [],
   "source": [
    "# with open(os.path.join(REPO_DIRECTORY_PATH,\"results_run2_gen3\",\"start_pop.pkl\"), 'wb') as file:\n",
    "#     # Serialize the object and write it to the file\n",
    "#     pickle.dump(best_sol_pop, file)\n",
    "#     file.close()"
   ]
  },
  {
   "cell_type": "code",
   "execution_count": null,
   "metadata": {},
   "outputs": [],
   "source": [
    "len(best_sol_pop)"
   ]
  },
  {
   "cell_type": "code",
   "execution_count": null,
   "metadata": {},
   "outputs": [],
   "source": [
    "best_sol_pop.sort(key = lambda x : x.fitness.values, reverse=True)\n",
    "print(len(best_sol_pop))\n",
    "[i.fitness.values for i in best_sol_pop][:5]"
   ]
  },
  {
   "cell_type": "code",
   "execution_count": null,
   "metadata": {},
   "outputs": [],
   "source": [
    "per_list = []\n",
    "for k in best_sol_pop:\n",
    "    per = [i.split(\"_\")[-1] for i in str(k).split(\"'\") if \"percentage\" in i]\n",
    "    if per:\n",
    "        per_list.append(per)\n",
    "print(set([i[0] for i in per_list]))"
   ]
  },
  {
   "cell_type": "code",
   "execution_count": null,
   "metadata": {},
   "outputs": [],
   "source": [
    "bs = best_sol_pop[:20]\n",
    "lst_bsp_test = []\n",
    "lst_bsp_train = []\n",
    "\n",
    "for i in bs:\n",
    "    lst_bsp_test.append(trading_strat(individual = i, df=df_test,pset=pset)[:2])\n",
    "    lst_bsp_train.append(trading_strat(individual = i, df=df_train ,pset=pset)[:2])\n",
    "    "
   ]
  },
  {
   "cell_type": "code",
   "execution_count": null,
   "metadata": {},
   "outputs": [],
   "source": [
    "print(df_train['Open'].iloc[-1])\n",
    "print(df_train['Open'].iloc[0])\n",
    "\n",
    "df_train['Open'].iloc[-1]-df_train['Open'].iloc[0]"
   ]
  },
  {
   "cell_type": "code",
   "execution_count": null,
   "metadata": {},
   "outputs": [],
   "source": [
    "[(i.fitness.values)[0] for i in best_sol_pop]"
   ]
  },
  {
   "cell_type": "code",
   "execution_count": null,
   "metadata": {},
   "outputs": [],
   "source": [
    "plt.plot(range(1,len(best_sol_pop)+1),[(i.fitness.values)[0]/2 for i in best_sol_pop],'r.')\n",
    "plt.title(\"Fitness values of the strategies.\")\n",
    "plt.xlabel(\"Trading Strategy Number\")\n",
    "plt.ylabel(\"Fitness Value\")"
   ]
  },
  {
   "cell_type": "code",
   "execution_count": null,
   "metadata": {},
   "outputs": [],
   "source": [
    "plt.figure(figsize=(15,7))\n",
    "plt.title(\"Fitness Values of the top 20 trading strategies on the Test set.\")\n",
    "plt.plot(range(1,len(bs)+1),[i[0] for i in lst_bsp_test],'r.', label = \"Final Portfolio Value\")\n",
    "plt.plot(range(1,len(bs)+1),[i[1] for i in lst_bsp_test],'b.', label='MDD')\n",
    "plt.plot(range(1,len(bs)+1),[i[0]+i[1]  for i in lst_bsp_test],'k.', label=\"Fitness Value\")\n",
    "plt.legend()\n",
    "plt.xlabel(\"Trading Strategy Number\")\n",
    "plt.ylabel(\"$\")"
   ]
  },
  {
   "cell_type": "code",
   "execution_count": null,
   "metadata": {},
   "outputs": [],
   "source": [
    "plt.figure(figsize=(15,7))\n",
    "plt.plot(range(1,len(bs)+1),[i[0] for i in lst_bsp_train],'r.')\n",
    "plt.plot(range(1,len(bs)+1),[i[1] for i in lst_bsp_train],'b.')\n",
    "plt.plot(range(1,len(bs)+1),[i[0]+i[1]  for i in lst_bsp_train],'k.')"
   ]
  },
  {
   "cell_type": "code",
   "execution_count": null,
   "metadata": {},
   "outputs": [],
   "source": [
    "def get_macd_value(df, val = 1000 , tc = 0.01):\n",
    "    val_ts=[val]\n",
    "    long=False\n",
    "\n",
    "    # Add the required columns to the DF:\n",
    "    df['ema12'] = df['Open'].ewm(span=12, adjust = False).mean()\n",
    "    df['ema26'] = df['Open'].ewm(span=26, adjust = False).mean()\n",
    "    df['macd'] = df['ema12'] - df['ema26']\n",
    "    df['signal_line'] = df['macd'].ewm(span = 9, adjust=False).mean()\n",
    "    \n",
    "    df['macd_above'] = (df['macd'] - df['signal_line'])>0\n",
    "    df['macd_above_lagged'] = df['macd_above'] .shift(1)\n",
    "\n",
    "    #Impliment the trading strategy:\n",
    "    for cnt, row in enumerate(df[['Open','macd_above','macd_above_lagged']].iterrows()):\n",
    "        if (row[1]['macd_above']==True)  and (row[1]['macd_above_lagged']==False) and long==False:\n",
    "            shares = ((1-tc)*val)/row[1]['Open']\n",
    "            long=True\n",
    "        elif (row[1]['macd_above']==False)  and (row[1]['macd_above_lagged']==True) and long==True:\n",
    "            val = (1-tc)*shares*row[1]['Open']\n",
    "            val_ts.append(val)\n",
    "            long=False\n",
    "        if cnt == len(df) and long:\n",
    "            val = shares*row[1]['Open']\n",
    "            val_ts.append(val)\n",
    "    return val, val_ts\n",
    "\n",
    "macd_test_val, macd_test_val_ts = get_macd_value(df = df_test)\n",
    "macd_train_val, macd_train_val_ts = get_macd_value(df = df_train)"
   ]
  },
  {
   "cell_type": "code",
   "execution_count": null,
   "metadata": {},
   "outputs": [],
   "source": [
    "[i.fitness.values for i in best_sol_pop][:20]"
   ]
  },
  {
   "cell_type": "code",
   "execution_count": null,
   "metadata": {},
   "outputs": [],
   "source": [
    "tc = 0.01\n",
    "#Test data\n",
    "test_df = pd.DataFrame(columns=[\"Buy and Hold\",\"Evolved Trading Strategy\",\"MACD Trading Strategy\"])\n",
    "for ind,bs in enumerate(best_sol_pop):\n",
    "    test_results = {\n",
    "        \"Buy and Hold\":(1000/df_test.iloc[0]['Open'])*df_test.iloc[-1]['Open']*(1-tc)**2,\n",
    "        \"Evolved Trading Strategy\":trading_strat(individual = bs, df=df_test,pset=pset)[0],\n",
    "        \"MACD Trading Strategy\": macd_test_val,\n",
    "    }\n",
    "    test_df.loc[ind] = test_results"
   ]
  },
  {
   "cell_type": "code",
   "execution_count": null,
   "metadata": {},
   "outputs": [],
   "source": [
    "test_df.plot(title = \"Performance of the trading strategies on the test dataset.\",xlabel = \"Stratgy number\", ylabel = \"Final portfolio value\")"
   ]
  },
  {
   "cell_type": "code",
   "execution_count": null,
   "metadata": {},
   "outputs": [],
   "source": [
    "tc = 0.01\n",
    "#Train data\n",
    "train_df = pd.DataFrame(columns=[\"Buy and Hold\",\"Evolved Trading Strategy\",\"MACD Trading Strategy\"])\n",
    "for ind,bs in enumerate(best_sol_pop):\n",
    "    train_results = {\n",
    "        \"Buy and Hold\":(1000/df_train.iloc[0]['Open'])*df_train.iloc[-1]['Open']*(1-tc)**2,\n",
    "        \"Evolved Trading Strategy\":trading_strat(individual = bs, df=df_train,pset=pset)[0],\n",
    "        \"MACD Trading Strategy\": macd_train_val\n",
    "    }\n",
    "    train_df.loc[ind] = train_results\n",
    "train_df.plot(title = \"Performance of the trading strategies on the testing dataset.\",xlabel = \"Stratgy number\", ylabel = \"Final portfolio value\")"
   ]
  },
  {
   "cell_type": "code",
   "execution_count": null,
   "metadata": {},
   "outputs": [],
   "source": [
    "trading_strat(individual = best_sol_pop[3], df=df_train,pset=pset)"
   ]
  },
  {
   "cell_type": "code",
   "execution_count": null,
   "metadata": {},
   "outputs": [],
   "source": [
    "fig, ax = plt.subplots(ncols = 3, nrows = 5, figsize = (15,15))\n",
    "ax[0,0].title.set_text(\"Bitcoin Training Data\")\n",
    "ax[0,0].set_ylabel(\"Portfolio \\nValue.\")\n",
    "ax[0,0].set_xlabel(\"Trade number.\")\n",
    "ax[0,1].title.set_text(\"Bitcoin Testing Data\")\n",
    "ax[0,2].title.set_text(\"Ethereum Testing Data\")\n",
    "\n",
    "for ind in range(5):\n",
    "    train_ts = trading_strat(individual = best_sol_pop[ind], df=df_train,pset=pset)[2]\n",
    "    test_ts = trading_strat(individual = best_sol_pop[ind], df=df_test,pset=pset)[2]\n",
    "    eth_trade_ts = trading_strat(individual = best_sol_pop[ind], df=eth_ts,pset=pset)[2]\n",
    "\n",
    "    ax[ind,0].plot(range(len(train_ts)),train_ts,color='b')\n",
    "    ax[ind,1].plot(range(len(test_ts)),test_ts,color='r')\n",
    "    ax[ind,2].plot(range(len(eth_trade_ts)),eth_trade_ts, color='r')\n"
   ]
  },
  {
   "cell_type": "code",
   "execution_count": null,
   "metadata": {},
   "outputs": [],
   "source": [
    "tc = 0.01\n",
    "macd_eth_val, macd_eth_val_ts = get_macd_value(df = eth_ts)\n",
    "\n",
    "#ETH data\n",
    "eth_df = pd.DataFrame(columns=[\"Buy and Hold\",\"Evolved Trading Strategy\",\"MACD Trading Strategy\"])\n",
    "for ind,bs in enumerate(best_sol_pop):\n",
    "    train_results = {\n",
    "        \"Buy and Hold\":(1000/eth_ts.iloc[0]['Open'])*eth_ts.iloc[-1]['Open']*(1-tc)**2,\n",
    "        \"Evolved Trading Strategy\":trading_strat(individual = bs, df=eth_ts,pset=pset)[0],\n",
    "        \"MACD Trading Strategy\": macd_eth_val\n",
    "    }\n",
    "    eth_df.loc[ind] = train_results\n",
    "eth_df.plot()"
   ]
  },
  {
   "cell_type": "code",
   "execution_count": null,
   "metadata": {},
   "outputs": [],
   "source": [
    "fig,ax = plt.subplots(ncols=3,nrows=1, figsize=(15,7))\n",
    "plt.suptitle(\"The final portfolio values of the evolved trading strategy compared \\nto the benchmark strategies for different datasets.\")\n",
    "train_df.plot(title = \"Bitcoin train dataset.\",xlabel = \"Stratgy number\", ylabel = \"Final portfolio value\", ax=ax[0], color=[\"black\",\"red\",\"blue\"],legend=False)\n",
    "test_df.plot(title = \"Bitcoin test dataset.\", ax = ax[1], color=[\"black\",\"red\",\"blue\"])\n",
    "eth_df.plot(title = \"Ethereum test dataset.\", ax = ax[2], color=[\"black\",\"red\",\"blue\"],legend=False)\n",
    "fig.subplots_adjust(top=0.83)"
   ]
  },
  {
   "cell_type": "code",
   "execution_count": null,
   "metadata": {},
   "outputs": [],
   "source": [
    "best_solution = best_sol_pop[0]\n",
    "tc = 0.01\n",
    "print(\"TEST\")\n",
    "print(\"MACD: \", macd_test_val)\n",
    "print(\"Buy and hold:\",(1000/df_test.iloc[0]['Open'])*df_test.iloc[-1]['Open']*(1-tc)**2)\n",
    "print(\"mtv         :\",maximum_theoretical_value(df_test))\n",
    "print(\"strat value :\",trading_strat(individual = best_solution, df=df_test,pset=pset)[0],'\\n')"
   ]
  },
  {
   "cell_type": "code",
   "execution_count": null,
   "metadata": {},
   "outputs": [],
   "source": [
    "#PLOT DECISION TREES:\n",
    "for int,bes_sol in enumerate(best_sol_pop):\n",
    "    plot_tree(bes_sol, name=f\"run3_gen2/run3_gen2_bs{int}.png\")"
   ]
  },
  {
   "cell_type": "code",
   "execution_count": null,
   "metadata": {},
   "outputs": [],
   "source": [
    "tc = 0.01\n",
    "print(\"TRAIN\")\n",
    "print(\"MACD: \", macd_train_val)\n",
    "print(\"Buy and hold:\",(1000/df_train.iloc[0]['Open'])*df_train.iloc[-1]['Open']*(1-tc)**2)\n",
    "print(\"mtv         :\",maximum_theoretical_value(df_train))\n",
    "print(\"strat value :\",trading_strat(individual = best_solution, df=df_train,pset=pset)[0],'\\n')"
   ]
  },
  {
   "cell_type": "code",
   "execution_count": null,
   "metadata": {},
   "outputs": [],
   "source": [
    "print(\"ETHEREUM \")\n",
    "print(\"MACD: \", macd_train_val)\n",
    "print(\"Buy and hold:\",(1000/eth_ts.iloc[0]['Open'])*eth_ts.iloc[-1]['Open']*(1-tc)**2)\n",
    "print(\"mtv         :\",maximum_theoretical_value(eth_ts))\n",
    "print(\"strat value :\",trading_strat(individual = best_solution, df=eth_ts,pset=pset)[0],'\\n')"
   ]
  },
  {
   "cell_type": "code",
   "execution_count": null,
   "metadata": {},
   "outputs": [],
   "source": [
    "# plot_tree(best_sol_pop[8], name=\"bs_dt8\")\n",
    "from fitness_functions import trading_strat"
   ]
  },
  {
   "cell_type": "code",
   "execution_count": null,
   "metadata": {},
   "outputs": [],
   "source": [
    "val, mdd, ts_val, trade_rows = trading_strat(individual = best_sol_pop[8], df=eth_ts,pset=pset, ret_trade_row=True)\n",
    "# plt.plot(range(len(bs8)),bs8)\n",
    "# plt.plot([0,3],df)"
   ]
  },
  {
   "cell_type": "code",
   "execution_count": null,
   "metadata": {},
   "outputs": [],
   "source": [
    "eth_val_ts = []\n",
    "for i in trade_rows:\n",
    "    eth_val_ts.append(eth_ts.loc[i[0]]['Open'])\n",
    "eth_val_ts"
   ]
  },
  {
   "cell_type": "code",
   "execution_count": null,
   "metadata": {},
   "outputs": [],
   "source": [
    "# buy_and_hold:\n",
    "def buy_and_hold(df,strat):\n",
    "    val, mdd, ts_val, trade_rows = trading_strat(individual =strat, df=df,pset=pset, ret_trade_row=True)\n",
    "    bh_val_ts = [1000]\n",
    "    shares = 1000/df.iloc[0]['Open']\n",
    "    for i in trade_rows:\n",
    "        bh_val_ts.append(shares*df.loc[i[0]]['Open']*(1-tc)**2)\n",
    "    bh_val_ts.append(shares*df.iloc[-1]['Open']*(1-tc)**2)\n",
    "    return bh_val_ts\n",
    "\n",
    "eth_bh_ts = buy_and_hold(df=eth_ts ,strat = best_sol_pop[8])"
   ]
  },
  {
   "cell_type": "code",
   "execution_count": null,
   "metadata": {},
   "outputs": [],
   "source": [
    "plt.figure(1)\n",
    "plt.plot(range(len(ts_val)), ts_val)\n",
    "plt.plot(range(len(eth_bh_ts)), eth_bh_ts)"
   ]
  },
  {
   "cell_type": "code",
   "execution_count": null,
   "metadata": {},
   "outputs": [],
   "source": [
    "print(\"Buy and hold:\",(1000/df_train.iloc[0]['Open'])*df_train.iloc[-1]['Open']*(1-tc)**2)\n"
   ]
  },
  {
   "cell_type": "code",
   "execution_count": null,
   "metadata": {},
   "outputs": [],
   "source": [
    "plt.figure(figsize=(15,7))\n",
    "plt.plot(range(1,len(hof2)+1),[i[0] for i in lst_hof_test],'r.')\n",
    "plt.plot(range(1,len(hof2)+1),[i[1] for i in lst_hof_test],'b.')\n",
    "plt.plot(range(1,len(hof2)+1),[i[0]+i[1]  for i in lst_hof_test],'k.')\n",
    "\n",
    "\n",
    "plt.title(\"test data\")"
   ]
  },
  {
   "cell_type": "code",
   "execution_count": null,
   "metadata": {},
   "outputs": [],
   "source": [
    "[i[0]+i[1]  for i in lst_hof_test]"
   ]
  },
  {
   "cell_type": "code",
   "execution_count": null,
   "metadata": {},
   "outputs": [],
   "source": [
    "plt.figure(figsize=(15,7))\n",
    "plt.plot(range(1,len(hof2)+1),[i[0] for i in lst_hof_train],'r.')\n",
    "plt.plot(range(1,len(hof2)+1),[i[1] for i in lst_hof_train],'b.')\n",
    "plt.plot(range(1,len(hof2)+1),[i[0]-i[1] for i in lst_hof_train],'k.')\n",
    "\n",
    "\n",
    "plt.title(\"train data\")\n",
    "print([i[0]-i[1] for i in lst_hof_train])"
   ]
  },
  {
   "cell_type": "code",
   "execution_count": null,
   "metadata": {},
   "outputs": [],
   "source": [
    "with open(rf\"\\home\\khann\\masters\\results_run2\\run_2024-08-10_02-20\\hof.pkl\", 'rb') as file:\n",
    "        # Serialize the object and write it to the file\n",
    "            hof = pickle.load(file)"
   ]
  },
  {
   "cell_type": "code",
   "execution_count": null,
   "metadata": {},
   "outputs": [],
   "source": [
    "lst_hof_test = []\n",
    "for i in hof.items:\n",
    "    lst_hof_test.append(trading_strat(individual = i, df=df_test,pset=pset)[:2])\n",
    "\n",
    "lst_hof_train = []\n",
    "for i in hof.items:\n",
    "    lst_hof_train.append(trading_strat(individual = i, df=df_train,pset=pset)[:2])"
   ]
  },
  {
   "cell_type": "code",
   "execution_count": null,
   "metadata": {},
   "outputs": [],
   "source": [
    "lst_hof_test"
   ]
  },
  {
   "cell_type": "code",
   "execution_count": null,
   "metadata": {},
   "outputs": [],
   "source": [
    "plt.figure(figsize=(15,7))\n",
    "plt.plot(range(1,len(hof)+1),[i[0] for i in lst_hof_test],'r.')\n",
    "plt.plot(range(1,len(hof)+1),[i[1] for i in lst_hof_test],'b.')\n",
    "plt.plot(range(1,len(hof)+1),[i[0]+i[1]  for i in lst_hof_test],'k.')"
   ]
  },
  {
   "cell_type": "code",
   "execution_count": null,
   "metadata": {},
   "outputs": [],
   "source": [
    "plt.figure(figsize=(15,7))\n",
    "plt.plot(range(1,len(hof)+1),[i[0] for i in lst_hof_train],'r.')\n",
    "plt.plot(range(1,len(hof)+1),[i[1] for i in lst_hof_train],'b.')\n",
    "plt.plot(range(1,len(hof)+1),[i[0]+i[1]  for i in lst_hof_train],'k.')"
   ]
  },
  {
   "cell_type": "code",
   "execution_count": null,
   "metadata": {},
   "outputs": [],
   "source": [
    "[i.fitness.values for i in hof.items]"
   ]
  },
  {
   "cell_type": "code",
   "execution_count": null,
   "metadata": {},
   "outputs": [],
   "source": [
    "# import os\n",
    "# run_list = os.listdir(\"\\home\\khann\\masters\\results_run2_gen2\\start_pop\")\n",
    "# run_list"
   ]
  },
  {
   "cell_type": "code",
   "execution_count": null,
   "metadata": {},
   "outputs": [],
   "source": [
    "# cnt=0\n",
    "# for dir in run_list:\n",
    "#     if os.path.isdir(rf\"\\home\\khann\\masters\\results_run2\\{dir}\"):\n",
    "#         if cnt == 0:\n",
    "#             df_tmp = pd.read_csv(rf\"\\home\\khann\\masters\\results_run2\\{dir}\\run_info.csv\")\n",
    "#             df_tmp.drop('Unnamed: 0',axis=1, inplace=True)\n",
    "#         else:\n",
    "#             d = pd.read_csv(rf\"\\home\\khann\\masters\\results_run2\\{dir}\\run_info.csv\")\n",
    "#             d.drop('Unnamed: 0',axis=1, inplace=True)\n",
    "#             df_tmp = pd.concat([df_tmp, d], ignore_index=True, sort=False)\n",
    "#         cnt+=1"
   ]
  },
  {
   "cell_type": "code",
   "execution_count": null,
   "metadata": {},
   "outputs": [],
   "source": []
  }
 ],
 "metadata": {
  "kernelspec": {
   "display_name": ".venv",
   "language": "python",
   "name": "python3"
  },
  "language_info": {
   "codemirror_mode": {
    "name": "ipython",
    "version": 3
   },
   "file_extension": ".py",
   "mimetype": "text/x-python",
   "name": "python",
   "nbconvert_exporter": "python",
   "pygments_lexer": "ipython3",
   "version": "3.12.4"
  }
 },
 "nbformat": 4,
 "nbformat_minor": 2
}
