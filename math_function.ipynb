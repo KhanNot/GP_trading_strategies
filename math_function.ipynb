{
 "cells": [
  {
   "cell_type": "code",
   "execution_count": 1,
   "metadata": {},
   "outputs": [],
   "source": [
    "operator = ['+',\"-\",\"/\",\"*\"]"
   ]
  },
  {
   "cell_type": "code",
   "execution_count": 2,
   "metadata": {},
   "outputs": [],
   "source": [
    "# from operator import add, sub, mul,\n",
    "import random"
   ]
  },
  {
   "cell_type": "code",
   "execution_count": 3,
   "metadata": {},
   "outputs": [
    {
     "data": {
      "text/plain": [
       "['x1',\n",
       " 'x2',\n",
       " 'x3',\n",
       " 'x4',\n",
       " 'x5',\n",
       " 'x6',\n",
       " 'x7',\n",
       " 'x8',\n",
       " 'x9',\n",
       " 'x10',\n",
       " 'y1',\n",
       " 'y2',\n",
       " 'y3',\n",
       " 'y4',\n",
       " 'y5',\n",
       " 'y6',\n",
       " 'y7',\n",
       " 'y8',\n",
       " 'y9',\n",
       " 'y10']"
      ]
     },
     "execution_count": 3,
     "metadata": {},
     "output_type": "execute_result"
    }
   ],
   "source": [
    "variable_list = \"x1 x2 x3 x4 x5 x6 x7 x8 x9 x10 y1 y2 y3 y4 y5 y6 y7 y8 y9 y10\".split(\" \")\n",
    "variable_list\n"
   ]
  },
  {
   "cell_type": "code",
   "execution_count": 4,
   "metadata": {},
   "outputs": [],
   "source": [
    "op_ind = lambda : random.choice(range(0,len(operator)))\n",
    "var_ind = lambda : random.choice(range(0,len(variable_list)))"
   ]
  },
  {
   "cell_type": "code",
   "execution_count": 5,
   "metadata": {},
   "outputs": [
    {
     "data": {
      "text/plain": [
       "'(((((x3-x2)-y6)/y1)-x1)/x5)'"
      ]
     },
     "execution_count": 5,
     "metadata": {},
     "output_type": "execute_result"
    }
   ],
   "source": [
    "v1 = var_ind()\n",
    "v2 = var_ind()\n",
    "\n",
    "eq_str = f\"({variable_list[v1]}{operator[op_ind()]}{variable_list[v2]})\"\n",
    "for i in range(1, random.choice(range(2,10))):\n",
    "    eq_str = f\"({eq_str}{operator[op_ind()]}{variable_list[var_ind()]})\"\n",
    "eq_str"
   ]
  },
  {
   "cell_type": "code",
   "execution_count": 6,
   "metadata": {},
   "outputs": [
    {
     "data": {
      "text/plain": [
       "18"
      ]
     },
     "execution_count": 6,
     "metadata": {},
     "output_type": "execute_result"
    }
   ],
   "source": [
    "var_ind()"
   ]
  },
  {
   "cell_type": "code",
   "execution_count": 7,
   "metadata": {},
   "outputs": [],
   "source": [
    "l1 = [1,2,3,4,5,6,7,8]"
   ]
  },
  {
   "cell_type": "code",
   "execution_count": 8,
   "metadata": {},
   "outputs": [
    {
     "data": {
      "text/plain": [
       "[10, 11, 12, 4, 5, 6, 7, 8]"
      ]
     },
     "execution_count": 8,
     "metadata": {},
     "output_type": "execute_result"
    }
   ],
   "source": [
    "l1[:3]=[10,11,12]\n",
    "l1"
   ]
  },
  {
   "cell_type": "code",
   "execution_count": 9,
   "metadata": {},
   "outputs": [
    {
     "data": {
      "text/plain": [
       "[1, 2, 3]"
      ]
     },
     "execution_count": 9,
     "metadata": {},
     "output_type": "execute_result"
    }
   ],
   "source": [
    "[1,2,3,4,5,6,7,8][:3]"
   ]
  },
  {
   "cell_type": "code",
   "execution_count": 2,
   "metadata": {},
   "outputs": [],
   "source": [
    "# from fitness_functions import *\n",
    "import pandas as pd\n",
    "from scipy.signal import find_peaks"
   ]
  },
  {
   "cell_type": "code",
   "execution_count": 9,
   "metadata": {},
   "outputs": [],
   "source": [
    "def maximum_theoretical_value(df: pd.DataFrame, val: int|float =1000, tc: int|float = 0.01):\n",
    "    df_open = df['Open']\n",
    "    x = df_open.reset_index()['Open']\n",
    "\n",
    "    # Get peaks and troughs\n",
    "    peaks, _ = find_peaks(x)\n",
    "    troughs, _ = find_peaks(-x)\n",
    "\n",
    "    peaks_troughs = list(peaks)+list(troughs)\n",
    "    #Add the enedpoints to the local maximum and minimums.\n",
    "    if 0 not in peaks_troughs:\n",
    "        peaks_troughs.append(0)\n",
    "    if len(df_open)-1 not in peaks_troughs:\n",
    "        peaks_troughs.append(len(df_open)-1)\n",
    "\n",
    "    peaks_troughs = sorted(peaks_troughs)\n",
    "    print(df.iloc[peaks_troughs])\n",
    "    peaks_troughs\n",
    "\n",
    "    #Work out maximum theoretical value using an nitial investement of $1000 by default.\n",
    "    profit=0\n",
    "    val = 1000\n",
    "    no_tc_val = 1000\n",
    "    for ind,price in enumerate(df_open.iloc[peaks_troughs]):\n",
    "        if ind>1 and price > df_open.iloc[peaks_troughs].iloc[ind-1]:\n",
    "            # Calculate \n",
    "            pot_val= (val*price/df_open.iloc[peaks_troughs].iloc[ind-1])*(1-tc)**2\n",
    "            if pot_val>val:\n",
    "                val=pot_val        \n",
    "    # no_tc\n",
    "    if ind>1 and price > df_open.iloc[peaks_troughs].iloc[ind-1]:\n",
    "        no_tc_val = (no_tc_val*price/df_open.iloc[peaks_troughs].iloc[ind-1])\n",
    "        \n",
    "    return val "
   ]
  },
  {
   "cell_type": "code",
   "execution_count": 10,
   "metadata": {},
   "outputs": [
    {
     "name": "stdout",
     "output_type": "stream",
     "text": [
      "   Open\n",
      "0     1\n",
      "1    10\n",
      "2     3\n",
      "3    13\n"
     ]
    },
    {
     "data": {
      "text/plain": [
       "np.float64(4333.333333333333)"
      ]
     },
     "execution_count": 10,
     "metadata": {},
     "output_type": "execute_result"
    }
   ],
   "source": [
    "df = pd.DataFrame({\"Open\":[1,10,3,13]})\n",
    "maximum_theoretical_value(df, tc=0)"
   ]
  },
  {
   "cell_type": "code",
   "execution_count": 11,
   "metadata": {},
   "outputs": [
    {
     "data": {
      "text/plain": [
       "4333.333333333333"
      ]
     },
     "execution_count": 11,
     "metadata": {},
     "output_type": "execute_result"
    }
   ],
   "source": [
    "(((1000/10)*10)/3)*13"
   ]
  },
  {
   "cell_type": "code",
   "execution_count": null,
   "metadata": {},
   "outputs": [],
   "source": []
  }
 ],
 "metadata": {
  "kernelspec": {
   "display_name": ".venv",
   "language": "python",
   "name": "python3"
  },
  "language_info": {
   "codemirror_mode": {
    "name": "ipython",
    "version": 3
   },
   "file_extension": ".py",
   "mimetype": "text/x-python",
   "name": "python",
   "nbconvert_exporter": "python",
   "pygments_lexer": "ipython3",
   "version": "3.12.4"
  }
 },
 "nbformat": 4,
 "nbformat_minor": 2
}
