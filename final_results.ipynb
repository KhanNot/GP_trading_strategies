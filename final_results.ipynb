{
 "cells": [
  {
   "cell_type": "code",
   "execution_count": 3,
   "metadata": {},
   "outputs": [],
   "source": [
    "import os\n",
    "import pickle"
   ]
  },
  {
   "cell_type": "code",
   "execution_count": 4,
   "metadata": {},
   "outputs": [],
   "source": [
    "run_list = os.listdir(\"results_run2_gen2\")\n",
    "\n",
    "best_sol_pop = []\n",
    "base_dir = r\"C:\\Users\\khann\\Documents\\Data Science and Financial Technology\\Final project\\GP_trading_strategies\"\n",
    "\n",
    "if os.path.isdir(rf\"{base_dir}\\results_run2_gen2\\run_p0_2024-08-13_09-24\"):\n",
    "    with open(rf\"{base_dir}\\results_run2_gen2\\run_p0_2024-08-13_09-24\\logbook.pkl\", 'rb') as file:\n",
    "    # Serialize the object and write it to the file\n",
    "            hof = pickle.load(file)\n",
    "            # print(len(hof))\n",
    "            hof"
   ]
  },
  {
   "cell_type": "code",
   "execution_count": 5,
   "metadata": {},
   "outputs": [
    {
     "data": {
      "text/plain": [
       "False"
      ]
     },
     "execution_count": 5,
     "metadata": {},
     "output_type": "execute_result"
    }
   ],
   "source": [
    "os.path.isdir(rf\"{base_dir}\\results_run2_gen2\\run_p0_2024-08-10_10-14\")"
   ]
  },
  {
   "cell_type": "code",
   "execution_count": 17,
   "metadata": {},
   "outputs": [
    {
     "data": {
      "text/plain": [
       "51"
      ]
     },
     "execution_count": 17,
     "metadata": {},
     "output_type": "execute_result"
    }
   ],
   "source": [
    "len(hof)"
   ]
  },
  {
   "cell_type": "code",
   "execution_count": 19,
   "metadata": {},
   "outputs": [
    {
     "name": "stderr",
     "output_type": "stream",
     "text": [
      "C:\\Users\\khann\\AppData\\Local\\Temp\\ipykernel_16096\\3406070458.py:1: DeprecationWarning: Conversion of an array with ndim > 0 to a scalar is deprecated, and will error in future. Ensure you extract a single element from your array before performing this operation. (Deprecated NumPy 1.25.)\n",
      "  set([round(float(i['max']),3) for i in hof][-10:])\n"
     ]
    },
    {
     "data": {
      "text/plain": [
       "{284104.496}"
      ]
     },
     "execution_count": 19,
     "metadata": {},
     "output_type": "execute_result"
    }
   ],
   "source": [
    "set([round(float(i['max']),3) for i in hof][-10:])"
   ]
  },
  {
   "cell_type": "code",
   "execution_count": 15,
   "metadata": {},
   "outputs": [
    {
     "name": "stderr",
     "output_type": "stream",
     "text": [
      "C:\\Users\\khann\\AppData\\Local\\Temp\\ipykernel_16096\\3530066642.py:1: DeprecationWarning: Conversion of an array with ndim > 0 to a scalar is deprecated, and will error in future. Ensure you extract a single element from your array before performing this operation. (Deprecated NumPy 1.25.)\n",
      "  [float(i['max']) for i in hof]\n"
     ]
    },
    {
     "data": {
      "text/plain": [
       "[284104.4964312036,\n",
       " 284104.4964312036,\n",
       " 284104.4964312036,\n",
       " 284104.4964312036,\n",
       " 284104.4964312036,\n",
       " 284104.4964312036,\n",
       " 284104.4964312036,\n",
       " 284104.4964312036,\n",
       " 284104.4964312036,\n",
       " 284104.4964312036,\n",
       " 284104.4964312036,\n",
       " 284104.4964312036,\n",
       " 284104.4964312036,\n",
       " 284104.4964312036,\n",
       " 284104.4964312036,\n",
       " 284104.4964312036,\n",
       " 284104.4964312036,\n",
       " 284104.4964312036,\n",
       " 284104.4964312036,\n",
       " 284104.4964312036,\n",
       " 284104.4964312036,\n",
       " 284104.4964312036,\n",
       " 284104.4964312036,\n",
       " 284104.4964312036,\n",
       " 284104.4964312036,\n",
       " 284104.4964312036,\n",
       " 284104.4964312036,\n",
       " 284104.4964312036,\n",
       " 284104.4964312036,\n",
       " 284104.4964312036,\n",
       " 284104.4964312036,\n",
       " 284104.4964312036,\n",
       " 284104.4964312036,\n",
       " 284104.4964312036,\n",
       " 284104.4964312036,\n",
       " 284104.4964312036,\n",
       " 284104.4964312036,\n",
       " 284104.4964312036,\n",
       " 284104.4964312036,\n",
       " 284104.4964312036,\n",
       " 284104.4964312036,\n",
       " 284104.4964312036,\n",
       " 284104.4964312036,\n",
       " 284104.4964312036,\n",
       " 284104.4964312036,\n",
       " 284104.4964312036,\n",
       " 284104.4964312036,\n",
       " 284104.4964312036,\n",
       " 284104.4964312036,\n",
       " 284104.4964312036,\n",
       " 284104.4964312036]"
      ]
     },
     "execution_count": 15,
     "metadata": {},
     "output_type": "execute_result"
    }
   ],
   "source": [
    "[float(i['max']) for i in hof]"
   ]
  },
  {
   "cell_type": "code",
   "execution_count": null,
   "metadata": {},
   "outputs": [],
   "source": []
  }
 ],
 "metadata": {
  "kernelspec": {
   "display_name": ".venv",
   "language": "python",
   "name": "python3"
  },
  "language_info": {
   "codemirror_mode": {
    "name": "ipython",
    "version": 3
   },
   "file_extension": ".py",
   "mimetype": "text/x-python",
   "name": "python",
   "nbconvert_exporter": "python",
   "pygments_lexer": "ipython3",
   "version": "3.12.4"
  }
 },
 "nbformat": 4,
 "nbformat_minor": 2
}
