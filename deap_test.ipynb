{
 "cells": [
  {
   "cell_type": "code",
   "execution_count": 1,
   "metadata": {},
   "outputs": [],
   "source": [
    "import deap\n",
    "import pandas as pd\n",
    "import yfinance as yf"
   ]
  },
  {
   "cell_type": "code",
   "execution_count": 2,
   "metadata": {},
   "outputs": [],
   "source": [
    "from deap import creator\n",
    "from deap import base, tools\n",
    "import random"
   ]
  },
  {
   "cell_type": "code",
   "execution_count": 3,
   "metadata": {},
   "outputs": [],
   "source": [
    "creator.create(\"FitnessMax\", base.Fitness, weigths = (1.0,))\n",
    "creator.create(\"Individual\", list, fitness = creator.FitnessMax)\n",
    "\n",
    "ind_size =10\n",
    "\n",
    "toolbox = base.Toolbox()\n",
    "toolbox.register(\"attr_float\", random.random)\n",
    "toolbox.register(\"individual\",tools.initRepeat, creator.Individual, toolbox.attr_float, n= 10)\n"
   ]
  },
  {
   "cell_type": "code",
   "execution_count": 4,
   "metadata": {},
   "outputs": [
    {
     "data": {
      "text/plain": [
       "functools.partial(<function initRepeat at 0x0000011B7658D240>, <class 'deap.creator.Individual'>, functools.partial(<built-in method random of Random object at 0x0000011B51012550>), n=10)"
      ]
     },
     "execution_count": 4,
     "metadata": {},
     "output_type": "execute_result"
    }
   ],
   "source": [
    "toolbox.individual"
   ]
  },
  {
   "cell_type": "code",
   "execution_count": 5,
   "metadata": {},
   "outputs": [],
   "source": [
    "from deap import gp, base\n",
    "import operator"
   ]
  },
  {
   "cell_type": "code",
   "execution_count": 6,
   "metadata": {},
   "outputs": [
    {
     "name": "stderr",
     "output_type": "stream",
     "text": [
      "c:\\Users\\khann\\Documents\\Data Science and Financial Technology\\Final project\\GP_trading_strategies\\.venv\\lib\\site-packages\\deap\\creator.py:185: RuntimeWarning: A class named 'Individual' has already been created and it will be overwritten. Consider deleting previous creation of that class or rename it.\n",
      "  warnings.warn(\"A class named '{0}' has already been created and it \"\n"
     ]
    }
   ],
   "source": [
    "pset = gp.PrimitiveSet(\"MAIN\", arity=2)\n",
    "\n",
    "pset.addPrimitive(operator.add, 2)\n",
    "\n",
    "creator.create(\"FitnessMin\", base.Fitness, weights = (-1,))\n",
    "creator.create(\"Individual\", gp.PrimitiveTree, fitness= creator.FitnessMin, pset = pset)\n",
    "\n",
    "toolbox = base.Toolbox()\n",
    "toolbox.register(\"expr\", gp.genHalfAndHalf, pset = pset, min_=-1, max_=2)\n",
    "toolbox.register(\"individual\", tools.initIterate, creator.Individual, toolbox.expr)"
   ]
  },
  {
   "cell_type": "code",
   "execution_count": 12,
   "metadata": {},
   "outputs": [
    {
     "data": {
      "text/plain": [
       "()"
      ]
     },
     "execution_count": 12,
     "metadata": {},
     "output_type": "execute_result"
    }
   ],
   "source": [
    "ind1 = toolbox.individual()\n",
    "ind1."
   ]
  },
  {
   "cell_type": "code",
   "execution_count": 48,
   "metadata": {},
   "outputs": [],
   "source": [
    "btc_ts = yf.Ticker(\"BTC-USD\").history(start='2023-01-01', end='2023-01-20')\n",
    "\n",
    "#Moving average function:\n",
    "def ma(df:pd.DataFrame, period : int|float):\n",
    "    return df.iloc[-period:].mean()\n",
    "\n",
    "pset.addPrimitive(name=\"MovingAverage\",primitive=ma,arity=2 )"
   ]
  },
  {
   "cell_type": "code",
   "execution_count": 51,
   "metadata": {},
   "outputs": [
    {
     "data": {
      "text/plain": [
       "['ARG0', 'ARG1']"
      ]
     },
     "execution_count": 51,
     "metadata": {},
     "output_type": "execute_result"
    }
   ],
   "source": [
    "pset.arguments"
   ]
  },
  {
   "cell_type": "code",
   "execution_count": 13,
   "metadata": {},
   "outputs": [],
   "source": [
    "import random\n",
    "import numpy as np\n",
    "import pandas as pd\n",
    "from deap import base, creator, tools, algorithms\n",
    "import matplotlib.pyplot as plt\n"
   ]
  },
  {
   "cell_type": "code",
   "execution_count": 14,
   "metadata": {},
   "outputs": [],
   "source": [
    "# Generate a synthetic dataset\n",
    "np.random.seed(42)\n",
    "data = pd.DataFrame({\n",
    "    'price': np.random.randn(100).cumsum() + 100  # Simulated price data\n",
    "})\n",
    "\n",
    "data['short_mavg'] = data['price'].rolling(window=10, min_periods=1).mean()\n",
    "data['long_mavg'] = data['price'].rolling(window=50, min_periods=1).mean()\n",
    "data = data.dropna()\n"
   ]
  },
  {
   "cell_type": "markdown",
   "metadata": {},
   "source": [
    "# Using logical operators:"
   ]
  },
  {
   "cell_type": "code",
   "execution_count": 20,
   "metadata": {},
   "outputs": [],
   "source": [
    "from deap import gp"
   ]
  },
  {
   "cell_type": "code",
   "execution_count": null,
   "metadata": {},
   "outputs": [],
   "source": [
    "pset = gp.PrimitiveSet(\"MAIN\",2 )\n",
    "\n",
    "#Add the logcical operators:\n",
    "pset.addPrimitive(operator.lt,2) #<\n",
    "pset.addPrimitive(operator.gt,2) #>\n",
    "\n",
    "pset.addTerminal(True)\n",
    "pset.addTerminal(False)"
   ]
  },
  {
   "cell_type": "code",
   "execution_count": 61,
   "metadata": {},
   "outputs": [],
   "source": [
    "#Functions to apply to data:\n",
    "#Assume data provided to the function is a pd DataFrame with the last entry being todays data.\n",
    "\n",
    "#Moving average function:\n",
    "def ma(df:pd.DataFrame, period : int|float= random.randint(0,10)):\n",
    "    \"\"\"Get the Moving average for a time period.\"\"\"\n",
    "    return {\"value\":df.iloc[-period:].mean(),\"period\":period}\n",
    "\n",
    "def lag(df:pd.DataFrame, lag : int|float = random.randint(0,10)):\n",
    "    \"\"\"Get the lagged value from the dataset.\"\"\"\n",
    "    return {\"value\":df.iloc[-lag], \"peroid\":lag}\n",
    "\n",
    "def multiply_by_constant(df:pd.DataFrame, constant : int|float = random.random()):\n",
    "    \"\"\"Return the last entry in the datframne multiplied by a constant between 0 and 1.\"\"\"\n",
    "    return {\"value\":df.iloc[-1]*constant,\"period\":constant}"
   ]
  },
  {
   "cell_type": "code",
   "execution_count": 62,
   "metadata": {},
   "outputs": [
    {
     "data": {
      "text/plain": [
       "Date\n",
       "2023-01-01 00:00:00+00:00    16547.914062\n",
       "2023-01-02 00:00:00+00:00    16625.509766\n",
       "2023-01-03 00:00:00+00:00    16688.847656\n",
       "2023-01-04 00:00:00+00:00    16680.205078\n",
       "2023-01-05 00:00:00+00:00    16863.472656\n",
       "Name: Open, dtype: float64"
      ]
     },
     "execution_count": 62,
     "metadata": {},
     "output_type": "execute_result"
    }
   ],
   "source": [
    "btc_ts = yf.Ticker(\"BTC-USD\").history(start='2023-01-01', end='2023-01-20')\n",
    "btc_ts_open = btc_ts['Open']\n",
    "btc_ts_open.head(5)\n"
   ]
  },
  {
   "cell_type": "code",
   "execution_count": 75,
   "metadata": {},
   "outputs": [
    {
     "data": {
      "text/plain": [
       "[<function __main__.ma(df: pandas.core.frame.DataFrame, period: int | float = 6)>,\n",
       " <function __main__.lag(df: pandas.core.frame.DataFrame, lag: int | float = 9)>,\n",
       " <function __main__.multiply_by_constant(df: pandas.core.frame.DataFrame, constant: int | float = 0.7494776111435393)>]"
      ]
     },
     "execution_count": 75,
     "metadata": {},
     "output_type": "execute_result"
    }
   ],
   "source": [
    "# Create the tree\n",
    "\n",
    "list_functioins = [ma,lag,multiply_by_constant]\n",
    "list_functioins\n"
   ]
  },
  {
   "cell_type": "code",
   "execution_count": 72,
   "metadata": {},
   "outputs": [
    {
     "data": {
      "text/plain": [
       "<function __main__.lag(df: pandas.core.frame.DataFrame, lag: int | float = 9)>"
      ]
     },
     "execution_count": 72,
     "metadata": {},
     "output_type": "execute_result"
    }
   ],
   "source": [
    "def comparitor(func1, func2):\n",
    "    return func1>func2"
   ]
  },
  {
   "cell_type": "markdown",
   "metadata": {},
   "source": [
    "# DEAP logical tree tests"
   ]
  },
  {
   "cell_type": "code",
   "execution_count": 4,
   "metadata": {},
   "outputs": [],
   "source": [
    "from deap import gp, creator, base, tools\n",
    "import operator"
   ]
  },
  {
   "cell_type": "code",
   "execution_count": 19,
   "metadata": {},
   "outputs": [],
   "source": [
    "# Logical operators:\n",
    "pset = gp.PrimitiveSetTyped(\"main\",[float,float],bool)\n",
    "pset.addPrimitive(operator.add, [float,float],float)\n",
    "pset.addPrimitive(operator.lt, [float,float],bool)\n",
    "pset.addPrimitive(operator.and_, [bool,bool],bool)\n",
    "pset.addPrimitive(operator.or_,[bool,bool],bool)\n",
    "\n",
    "pset.addTerminal(1,bool)\n",
    "pset.addTerminal(0,bool)"
   ]
  },
  {
   "cell_type": "code",
   "execution_count": 20,
   "metadata": {},
   "outputs": [
    {
     "name": "stderr",
     "output_type": "stream",
     "text": [
      "c:\\Users\\khann\\Documents\\Data Science and Financial Technology\\Final project\\GP_trading_strategies\\.venv\\Lib\\site-packages\\deap\\creator.py:185: RuntimeWarning: A class named 'FitnessMin' has already been created and it will be overwritten. Consider deleting previous creation of that class or rename it.\n",
      "  warnings.warn(\"A class named '{0}' has already been created and it \"\n",
      "c:\\Users\\khann\\Documents\\Data Science and Financial Technology\\Final project\\GP_trading_strategies\\.venv\\Lib\\site-packages\\deap\\creator.py:185: RuntimeWarning: A class named 'Individual' has already been created and it will be overwritten. Consider deleting previous creation of that class or rename it.\n",
      "  warnings.warn(\"A class named '{0}' has already been created and it \"\n"
     ]
    }
   ],
   "source": [
    "creator.create(\"FitnessMin\", base.Fitness, weights=(-1.0,))\n",
    "creator.create(\"Individual\", gp.PrimitiveTree, fitness=creator.FitnessMin,\n",
    "               pset=pset)"
   ]
  },
  {
   "cell_type": "code",
   "execution_count": 21,
   "metadata": {},
   "outputs": [],
   "source": [
    "toolbox = base.Toolbox()\n",
    "toolbox.register(\"expr\", gp.genFull, pset=pset, min_=1, max_=3)\n",
    "toolbox.register(\"individual\", tools.initIterate, creator.Individual,\n",
    "                 toolbox.expr)"
   ]
  },
  {
   "cell_type": "code",
   "execution_count": 27,
   "metadata": {},
   "outputs": [
    {
     "ename": "IndexError",
     "evalue": "The gp.generate function tried to add a primitive of type '<class 'float'>', but there is none available.",
     "output_type": "error",
     "traceback": [
      "\u001b[1;31m---------------------------------------------------------------------------\u001b[0m",
      "\u001b[1;31mIndexError\u001b[0m                                Traceback (most recent call last)",
      "File \u001b[1;32mc:\\Users\\khann\\Documents\\Data Science and Financial Technology\\Final project\\GP_trading_strategies\\.venv\\Lib\\site-packages\\deap\\gp.py:643\u001b[0m, in \u001b[0;36mgenerate\u001b[1;34m(pset, min_, max_, condition, type_)\u001b[0m\n\u001b[0;32m    642\u001b[0m \u001b[38;5;28;01mtry\u001b[39;00m:\n\u001b[1;32m--> 643\u001b[0m     prim \u001b[38;5;241m=\u001b[39m \u001b[43mrandom\u001b[49m\u001b[38;5;241;43m.\u001b[39;49m\u001b[43mchoice\u001b[49m\u001b[43m(\u001b[49m\u001b[43mpset\u001b[49m\u001b[38;5;241;43m.\u001b[39;49m\u001b[43mprimitives\u001b[49m\u001b[43m[\u001b[49m\u001b[43mtype_\u001b[49m\u001b[43m]\u001b[49m\u001b[43m)\u001b[49m\n\u001b[0;32m    644\u001b[0m \u001b[38;5;28;01mexcept\u001b[39;00m \u001b[38;5;167;01mIndexError\u001b[39;00m:\n",
      "File \u001b[1;32m~\\AppData\\Local\\Programs\\Python\\Python312\\Lib\\random.py:347\u001b[0m, in \u001b[0;36mRandom.choice\u001b[1;34m(self, seq)\u001b[0m\n\u001b[0;32m    346\u001b[0m \u001b[38;5;28;01mif\u001b[39;00m \u001b[38;5;129;01mnot\u001b[39;00m \u001b[38;5;28mlen\u001b[39m(seq):\n\u001b[1;32m--> 347\u001b[0m     \u001b[38;5;28;01mraise\u001b[39;00m \u001b[38;5;167;01mIndexError\u001b[39;00m(\u001b[38;5;124m'\u001b[39m\u001b[38;5;124mCannot choose from an empty sequence\u001b[39m\u001b[38;5;124m'\u001b[39m)\n\u001b[0;32m    348\u001b[0m \u001b[38;5;28;01mreturn\u001b[39;00m seq[\u001b[38;5;28mself\u001b[39m\u001b[38;5;241m.\u001b[39m_randbelow(\u001b[38;5;28mlen\u001b[39m(seq))]\n",
      "\u001b[1;31mIndexError\u001b[0m: Cannot choose from an empty sequence",
      "\nDuring handling of the above exception, another exception occurred:\n",
      "\u001b[1;31mIndexError\u001b[0m                                Traceback (most recent call last)",
      "Cell \u001b[1;32mIn[27], line 15\u001b[0m\n\u001b[0;32m      1\u001b[0m \u001b[38;5;28;01mfrom\u001b[39;00m \u001b[38;5;21;01mdeap\u001b[39;00m \u001b[38;5;28;01mimport\u001b[39;00m base, creator, gp\n\u001b[0;32m      3\u001b[0m \u001b[38;5;66;03m# pset = gp.PrimitiveSet(\"MAIN\", 1)\u001b[39;00m\n\u001b[0;32m      4\u001b[0m \u001b[38;5;66;03m# pset.addPrimitive(operator.add, 2)\u001b[39;00m\n\u001b[0;32m      5\u001b[0m \u001b[38;5;66;03m# pset.addPrimitive(operator.sub, 2)\u001b[39;00m\n\u001b[1;32m   (...)\u001b[0m\n\u001b[0;32m     12\u001b[0m \u001b[38;5;66;03m# toolbox.register(\"expr\", gp.genHalfAndHalf, pset=pset, min_=1, max_=2)\u001b[39;00m\n\u001b[0;32m     13\u001b[0m \u001b[38;5;66;03m# toolbox.register(\"individual\", tools.initIterate, creator.Individual, toolbox.expr)\u001b[39;00m\n\u001b[1;32m---> 15\u001b[0m expr \u001b[38;5;241m=\u001b[39m \u001b[43mtoolbox\u001b[49m\u001b[38;5;241;43m.\u001b[39;49m\u001b[43mindividual\u001b[49m\u001b[43m(\u001b[49m\u001b[43m)\u001b[49m\n\u001b[0;32m     16\u001b[0m nodes, edges, labels \u001b[38;5;241m=\u001b[39m gp\u001b[38;5;241m.\u001b[39mgraph(expr)\n\u001b[0;32m     18\u001b[0m \u001b[38;5;66;03m### Graphviz Section ###\u001b[39;00m\n",
      "File \u001b[1;32mc:\\Users\\khann\\Documents\\Data Science and Financial Technology\\Final project\\GP_trading_strategies\\.venv\\Lib\\site-packages\\deap\\tools\\init.py:51\u001b[0m, in \u001b[0;36minitIterate\u001b[1;34m(container, generator)\u001b[0m\n\u001b[0;32m     26\u001b[0m \u001b[38;5;28;01mdef\u001b[39;00m \u001b[38;5;21minitIterate\u001b[39m(container, generator):\n\u001b[0;32m     27\u001b[0m \u001b[38;5;250m    \u001b[39m\u001b[38;5;124;03m\"\"\"Call the function *container* with an iterable as\u001b[39;00m\n\u001b[0;32m     28\u001b[0m \u001b[38;5;124;03m    its only argument. The iterable must be returned by\u001b[39;00m\n\u001b[0;32m     29\u001b[0m \u001b[38;5;124;03m    the method or the object *generator*.\u001b[39;00m\n\u001b[1;32m   (...)\u001b[0m\n\u001b[0;32m     49\u001b[0m \u001b[38;5;124;03m    more examples.\u001b[39;00m\n\u001b[0;32m     50\u001b[0m \u001b[38;5;124;03m    \"\"\"\u001b[39;00m\n\u001b[1;32m---> 51\u001b[0m     \u001b[38;5;28;01mreturn\u001b[39;00m container(\u001b[43mgenerator\u001b[49m\u001b[43m(\u001b[49m\u001b[43m)\u001b[49m)\n",
      "File \u001b[1;32mc:\\Users\\khann\\Documents\\Data Science and Financial Technology\\Final project\\GP_trading_strategies\\.venv\\Lib\\site-packages\\deap\\gp.py:550\u001b[0m, in \u001b[0;36mgenFull\u001b[1;34m(pset, min_, max_, type_)\u001b[0m\n\u001b[0;32m    547\u001b[0m \u001b[38;5;250m    \u001b[39m\u001b[38;5;124;03m\"\"\"Expression generation stops when the depth is equal to height.\"\"\"\u001b[39;00m\n\u001b[0;32m    548\u001b[0m     \u001b[38;5;28;01mreturn\u001b[39;00m depth \u001b[38;5;241m==\u001b[39m height\n\u001b[1;32m--> 550\u001b[0m \u001b[38;5;28;01mreturn\u001b[39;00m \u001b[43mgenerate\u001b[49m\u001b[43m(\u001b[49m\u001b[43mpset\u001b[49m\u001b[43m,\u001b[49m\u001b[43m \u001b[49m\u001b[43mmin_\u001b[49m\u001b[43m,\u001b[49m\u001b[43m \u001b[49m\u001b[43mmax_\u001b[49m\u001b[43m,\u001b[49m\u001b[43m \u001b[49m\u001b[43mcondition\u001b[49m\u001b[43m,\u001b[49m\u001b[43m \u001b[49m\u001b[43mtype_\u001b[49m\u001b[43m)\u001b[49m\n",
      "File \u001b[1;32mc:\\Users\\khann\\Documents\\Data Science and Financial Technology\\Final project\\GP_trading_strategies\\.venv\\Lib\\site-packages\\deap\\gp.py:646\u001b[0m, in \u001b[0;36mgenerate\u001b[1;34m(pset, min_, max_, condition, type_)\u001b[0m\n\u001b[0;32m    644\u001b[0m \u001b[38;5;28;01mexcept\u001b[39;00m \u001b[38;5;167;01mIndexError\u001b[39;00m:\n\u001b[0;32m    645\u001b[0m     _, _, traceback \u001b[38;5;241m=\u001b[39m sys\u001b[38;5;241m.\u001b[39mexc_info()\n\u001b[1;32m--> 646\u001b[0m     \u001b[38;5;28;01mraise\u001b[39;00m \u001b[38;5;167;01mIndexError\u001b[39;00m(\u001b[38;5;124m\"\u001b[39m\u001b[38;5;124mThe gp.generate function tried to add \u001b[39m\u001b[38;5;124m\"\u001b[39m\n\u001b[0;32m    647\u001b[0m                      \u001b[38;5;124m\"\u001b[39m\u001b[38;5;124ma primitive of type \u001b[39m\u001b[38;5;124m'\u001b[39m\u001b[38;5;132;01m%s\u001b[39;00m\u001b[38;5;124m'\u001b[39m\u001b[38;5;124m, but there is \u001b[39m\u001b[38;5;124m\"\u001b[39m\n\u001b[0;32m    648\u001b[0m                      \u001b[38;5;124m\"\u001b[39m\u001b[38;5;124mnone available.\u001b[39m\u001b[38;5;124m\"\u001b[39m \u001b[38;5;241m%\u001b[39m (type_,))\u001b[38;5;241m.\u001b[39mwith_traceback(traceback)\n\u001b[0;32m    649\u001b[0m expr\u001b[38;5;241m.\u001b[39mappend(prim)\n\u001b[0;32m    650\u001b[0m \u001b[38;5;28;01mfor\u001b[39;00m arg \u001b[38;5;129;01min\u001b[39;00m \u001b[38;5;28mreversed\u001b[39m(prim\u001b[38;5;241m.\u001b[39margs):\n",
      "File \u001b[1;32mc:\\Users\\khann\\Documents\\Data Science and Financial Technology\\Final project\\GP_trading_strategies\\.venv\\Lib\\site-packages\\deap\\gp.py:643\u001b[0m, in \u001b[0;36mgenerate\u001b[1;34m(pset, min_, max_, condition, type_)\u001b[0m\n\u001b[0;32m    641\u001b[0m \u001b[38;5;28;01melse\u001b[39;00m:\n\u001b[0;32m    642\u001b[0m     \u001b[38;5;28;01mtry\u001b[39;00m:\n\u001b[1;32m--> 643\u001b[0m         prim \u001b[38;5;241m=\u001b[39m \u001b[43mrandom\u001b[49m\u001b[38;5;241;43m.\u001b[39;49m\u001b[43mchoice\u001b[49m\u001b[43m(\u001b[49m\u001b[43mpset\u001b[49m\u001b[38;5;241;43m.\u001b[39;49m\u001b[43mprimitives\u001b[49m\u001b[43m[\u001b[49m\u001b[43mtype_\u001b[49m\u001b[43m]\u001b[49m\u001b[43m)\u001b[49m\n\u001b[0;32m    644\u001b[0m     \u001b[38;5;28;01mexcept\u001b[39;00m \u001b[38;5;167;01mIndexError\u001b[39;00m:\n\u001b[0;32m    645\u001b[0m         _, _, traceback \u001b[38;5;241m=\u001b[39m sys\u001b[38;5;241m.\u001b[39mexc_info()\n",
      "File \u001b[1;32m~\\AppData\\Local\\Programs\\Python\\Python312\\Lib\\random.py:347\u001b[0m, in \u001b[0;36mRandom.choice\u001b[1;34m(self, seq)\u001b[0m\n\u001b[0;32m    344\u001b[0m \u001b[38;5;66;03m# As an accommodation for NumPy, we don't use \"if not seq\"\u001b[39;00m\n\u001b[0;32m    345\u001b[0m \u001b[38;5;66;03m# because bool(numpy.array()) raises a ValueError.\u001b[39;00m\n\u001b[0;32m    346\u001b[0m \u001b[38;5;28;01mif\u001b[39;00m \u001b[38;5;129;01mnot\u001b[39;00m \u001b[38;5;28mlen\u001b[39m(seq):\n\u001b[1;32m--> 347\u001b[0m     \u001b[38;5;28;01mraise\u001b[39;00m \u001b[38;5;167;01mIndexError\u001b[39;00m(\u001b[38;5;124m'\u001b[39m\u001b[38;5;124mCannot choose from an empty sequence\u001b[39m\u001b[38;5;124m'\u001b[39m)\n\u001b[0;32m    348\u001b[0m \u001b[38;5;28;01mreturn\u001b[39;00m seq[\u001b[38;5;28mself\u001b[39m\u001b[38;5;241m.\u001b[39m_randbelow(\u001b[38;5;28mlen\u001b[39m(seq))]\n",
      "\u001b[1;31mIndexError\u001b[0m: The gp.generate function tried to add a primitive of type '<class 'float'>', but there is none available."
     ]
    }
   ],
   "source": [
    "from deap import base, creator, gp\n",
    "\n",
    "# pset = gp.PrimitiveSet(\"MAIN\", 1)\n",
    "# pset.addPrimitive(operator.add, 2)\n",
    "# pset.addPrimitive(operator.sub, 2)\n",
    "# pset.addPrimitive(operator.mul, 2)\n",
    "# pset.renameArguments(ARG0='x')\n",
    "\n",
    "# creator.create(\"Individual\", gp.PrimitiveTree)\n",
    "\n",
    "# toolbox = base.Toolbox()\n",
    "# toolbox.register(\"expr\", gp.genHalfAndHalf, pset=pset, min_=1, max_=2)\n",
    "# toolbox.register(\"individual\", tools.initIterate, creator.Individual, toolbox.expr)\n",
    "\n",
    "expr = toolbox.individual()\n",
    "nodes, edges, labels = gp.graph(expr)\n",
    "\n",
    "### Graphviz Section ###\n",
    "import pygraphviz as pgv\n",
    "\n",
    "g = pgv.AGraph()\n",
    "g.add_nodes_from(nodes)\n",
    "g.add_edges_from(edges)\n",
    "g.layout(prog=\"dot\")\n",
    "\n",
    "for i in nodes:\n",
    "    n = g.get_node(i)\n",
    "    n.attr[\"label\"] = labels[i]\n",
    "\n",
    "g.draw(\"tree.png\")"
   ]
  }
 ],
 "metadata": {
  "kernelspec": {
   "display_name": ".venv",
   "language": "python",
   "name": "python3"
  },
  "language_info": {
   "codemirror_mode": {
    "name": "ipython",
    "version": 3
   },
   "file_extension": ".py",
   "mimetype": "text/x-python",
   "name": "python",
   "nbconvert_exporter": "python",
   "pygments_lexer": "ipython3",
   "version": "3.12.4"
  }
 },
 "nbformat": 4,
 "nbformat_minor": 2
}
