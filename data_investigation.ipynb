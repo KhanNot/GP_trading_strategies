{
 "cells": [
  {
   "cell_type": "code",
   "execution_count": 1,
   "metadata": {},
   "outputs": [],
   "source": [
    "import yfinance as yf\n",
    "from utils.pre_process_data import get_data\n",
    "import matplotlib.pyplot as plt\n",
    "from math import ceil\n"
   ]
  },
  {
   "cell_type": "code",
   "execution_count": 2,
   "metadata": {},
   "outputs": [],
   "source": [
    "ticker = \"BTC-USD\"\n",
    "start='2016-01-01'\n",
    "end='2024-06-30'\n",
    "\n",
    "df = yf.Ticker(ticker).history(start=start, end=end)"
   ]
  },
  {
   "cell_type": "code",
   "execution_count": 3,
   "metadata": {},
   "outputs": [],
   "source": [
    "df_train= df.iloc[ : ceil(len(df)*0.7)]\n",
    "df_test= df.iloc[ceil(len(df)*0.7) : ]\n"
   ]
  },
  {
   "cell_type": "code",
   "execution_count": 4,
   "metadata": {},
   "outputs": [],
   "source": [
    "train_s_x = list(df_train['Open'].index)\n",
    "train_s = list(df_train['Open'])\n",
    "test_s = list(df_test['Open'])\n",
    "test_s_x = list(df_test['Open'].index)"
   ]
  },
  {
   "cell_type": "code",
   "execution_count": null,
   "metadata": {},
   "outputs": [],
   "source": [
    "plt.figure(figsize=(12,6))\n",
    "plt.title(\"Bitcoin Dataset\"); plt.xlabel(\"Date\"); plt.ylabel(\"Bitcoin Opening price.\")\n",
    "plt.plot(train_s_x, train_s,'k',label='Training data')\n",
    "plt.plot(test_s_x, test_s,'r', label = \"Testing data\")\n",
    "plt.legend()"
   ]
  },
  {
   "cell_type": "code",
   "execution_count": null,
   "metadata": {},
   "outputs": [],
   "source": [
    "ticker = \"ETH-USD\"\n",
    "start='2012-01-01'\n",
    "end='2024-06-30'\n",
    "\n",
    "eth_df = yf.Ticker(ticker).history(start=start, end=end)\n",
    "\n",
    "eth_train_s_x = list(eth_df['Open'].index)\n",
    "eth_train_s = list(eth_df['Open'])\n",
    "\n",
    "plt.figure(figsize=(12,6))\n",
    "plt.title(\"Ethereum Dataset\"); plt.xlabel(\"Date\"); plt.ylabel(\"Ether Opening price.\")\n",
    "plt.plot(eth_train_s_x, eth_train_s,'r',label='Training data')"
   ]
  },
  {
   "cell_type": "code",
   "execution_count": null,
   "metadata": {},
   "outputs": [],
   "source": [
    "eth_df"
   ]
  },
  {
   "cell_type": "code",
   "execution_count": 8,
   "metadata": {},
   "outputs": [],
   "source": [
    "def get_plot_data(ticker = \"ETH-USD\"):\n",
    "    start='2012-01-01'\n",
    "    end='2024-06-30'\n",
    "\n",
    "    eth_df = yf.Ticker(ticker).history(start=start, end=end)\n",
    "\n",
    "    eth_train_s_x = list(eth_df['Open'].index)\n",
    "    eth_train_s = list(eth_df['Open'])\n",
    "    return eth_train_s_x, eth_train_s"
   ]
  },
  {
   "cell_type": "code",
   "execution_count": null,
   "metadata": {},
   "outputs": [],
   "source": [
    "sol_x, sol_y = get_plot_data(ticker=\"BNB-USD\")\n",
    "sol_x"
   ]
  },
  {
   "cell_type": "code",
   "execution_count": 10,
   "metadata": {},
   "outputs": [],
   "source": [
    "# fig, ax = plt.subplots(ncols=2,nrows=3, figsize = (12,8))\n",
    "\n",
    "# tickers = [\"SOL-USD\",\"XRP-USD\",\"BNB-USD\",\"DOGE-USD\",\"TON-USD\",\"TRX-USD\"]\n",
    "# names = [\"Solana\",\"Ripple\",\"Binance\",\"Dodgecoin\",\"Toncoin\",\"TRON\"]\n",
    "# for ind, tick in enumerate(tickers):\n",
    "#     x,y = get_plot_data(ticker = tick)\n",
    "#     ax[floor(ind/2),(ind%2)].plot(x,y, color='red')\n",
    "#     ax[floor(ind/2),(ind%2)].set_xlim(df.index[0], df.index[-1])\n",
    "#     ax[floor(ind/2),(ind%2)].set_title(f\"{names[ind]} price data.\")\n",
    "#     ax[floor(ind/2),(ind%2)].set_ylabel(\"Open price.\")\n",
    "# plt.tight_layout()\n"
   ]
  },
  {
   "cell_type": "code",
   "execution_count": null,
   "metadata": {},
   "outputs": [],
   "source": [
    "import statsmodels.api as sm\n",
    "plt.figure(figsize=(20, 15))\n",
    "fig, ax = plt.subplots(1,figsize=(15, 7))\n",
    "# sm.graphics.tsa.plot_pacf(df_fd,lags=100, ax = ax[0]);\n",
    "sm.graphics.tsa.plot_pacf(df['Open'],lags=100, ax = ax);\n",
    "# plt.savefig('Account images/T1/eur_usd_stationary_ACF_PACF.png',dpi=300,bbox_inches='tight')"
   ]
  },
  {
   "cell_type": "code",
   "execution_count": 27,
   "metadata": {},
   "outputs": [],
   "source": [
    "df_fd = df['Open'] - df['Open'].shift(1)"
   ]
  },
  {
   "cell_type": "code",
   "execution_count": 31,
   "metadata": {},
   "outputs": [],
   "source": [
    "df_fd.dropna(inplace=True)"
   ]
  },
  {
   "cell_type": "code",
   "execution_count": null,
   "metadata": {},
   "outputs": [],
   "source": []
  }
 ],
 "metadata": {
  "kernelspec": {
   "display_name": ".venv",
   "language": "python",
   "name": "python3"
  },
  "language_info": {
   "codemirror_mode": {
    "name": "ipython",
    "version": 3
   },
   "file_extension": ".py",
   "mimetype": "text/x-python",
   "name": "python",
   "nbconvert_exporter": "python",
   "pygments_lexer": "ipython3",
   "version": "3.12.4"
  }
 },
 "nbformat": 4,
 "nbformat_minor": 2
}
