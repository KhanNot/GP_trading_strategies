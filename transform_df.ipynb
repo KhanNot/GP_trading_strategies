{
 "cells": [
  {
   "cell_type": "markdown",
   "metadata": {},
   "source": [
    "# Notebook used to transform the raw financial data and to add columns such as MA and lagged values to the data."
   ]
  },
  {
   "cell_type": "code",
   "execution_count": null,
   "metadata": {},
   "outputs": [],
   "source": [
    "import yfinance as yf\n",
    "import pandas as pd\n",
    "import random\n",
    "import numpy as np\n",
    "import pendulum\n",
    "import importlib\n",
    "from fitness_functions import *\n",
    "from utils.units import Volume, Dollar"
   ]
  },
  {
   "cell_type": "code",
   "execution_count": null,
   "metadata": {},
   "outputs": [],
   "source": [
    "directory_path = r\"C:\\Users\\khann\\Documents\\Data Science and Financial Technology\\Final project\\GP_trading_strategies\""
   ]
  },
  {
   "cell_type": "code",
   "execution_count": null,
   "metadata": {},
   "outputs": [],
   "source": [
    "#Import the data.\n",
    "btc_ts = yf.Ticker(\"BTC-USD\").history(start='2016-01-01', end='2023-06-30')\n"
   ]
  },
  {
   "cell_type": "code",
   "execution_count": null,
   "metadata": {},
   "outputs": [],
   "source": [
    "base_columns_list = ['Open', 'High', 'Low', 'Close', 'Volume']"
   ]
  },
  {
   "cell_type": "code",
   "execution_count": null,
   "metadata": {},
   "outputs": [],
   "source": [
    "def create_ma_columns(df,column, lag):\n",
    "    df[f\"ma_{column.lower()}_{lag}\"]= df[column].rolling(window = lag).mean()\n",
    "    return df\n",
    "\n",
    "def create_lagged_columns(df, column, lag):\n",
    "    df[f\"lag_{column.lower()}_{lag}\"]= df[column].shift(lag)\n",
    "    return df\n",
    "\n",
    "def create_percentage_of_value(df, column, percentage:float = random.random()):\n",
    "    df[f\"percentage_{column.lower()}_{(round(percentage*100))}\"]= df[column]*percentage\n",
    "    return df\n",
    "\n",
    "def create_difference(df, column1:str = \"low\", column2:str = \"high\"):\n",
    "    df[f\"difference_{column1.lower()}_{column2.lower()}\"]= df[column2]-df[column1]\n",
    "    return df"
   ]
  },
  {
   "cell_type": "code",
   "execution_count": null,
   "metadata": {},
   "outputs": [],
   "source": [
    "# Add columns to df:\n",
    "for column in base_columns_list:\n",
    "    for lag in range(2,50):\n",
    "        create_ma_columns(df = btc_ts,column=column, lag = lag)\n",
    "    for lag in range(1,50):\n",
    "        create_lagged_columns(df = btc_ts,column=column, lag = lag)\n",
    "    for lag in range(10):\n",
    "        create_percentage_of_value(df = btc_ts,column=column)"
   ]
  },
  {
   "cell_type": "code",
   "execution_count": null,
   "metadata": {},
   "outputs": [],
   "source": [
    "def pre_process(df):\n",
    "    \"\"\"Remove nulls and columns from the DF.\"\"\"\n",
    "    null_rows = df.isna().sum(axis=1)[df.isna().sum(axis=1)!=0]\n",
    "    null_row_indices = list(null_rows.index)\n",
    "    df.drop(null_row_indices,inplace=True)\n",
    "    # sum(df.isna().sum(axis=1))\n",
    "    df.drop(['Dividends','Stock Splits'], axis=1,inplace = True)\n",
    "    return df"
   ]
  },
  {
   "cell_type": "code",
   "execution_count": null,
   "metadata": {},
   "outputs": [],
   "source": [
    "btc_ts = pre_process(btc_ts)"
   ]
  },
  {
   "cell_type": "code",
   "execution_count": null,
   "metadata": {},
   "outputs": [],
   "source": [
    "btc_ts.head()"
   ]
  },
  {
   "cell_type": "code",
   "execution_count": null,
   "metadata": {},
   "outputs": [],
   "source": [
    "volume_columns = [col  for col in btc_ts.columns if \"volume\" in col.lower()]\n",
    "dollar_columns = [col  for col in btc_ts.columns if \"volume\" not in col.lower()]"
   ]
  },
  {
   "cell_type": "code",
   "execution_count": null,
   "metadata": {},
   "outputs": [],
   "source": [
    "btc_train = btc_ts[:\"2021-06-30\"]\n",
    "btc_test = btc_ts[\"2021-06-30\":]"
   ]
  },
  {
   "cell_type": "markdown",
   "metadata": {},
   "source": [
    "# Genetic Program"
   ]
  },
  {
   "cell_type": "code",
   "execution_count": null,
   "metadata": {},
   "outputs": [],
   "source": [
    "from deap import gp, creator, base, tools\n",
    "from deap.gp import Terminal\n",
    "import operator\n",
    "from operator import or_, and_, gt\n",
    "from fitness_functions import *\n",
    "import fitness_functions\n",
    "from utils.plot_decision_trees import plot_tree\n",
    "\n"
   ]
  },
  {
   "cell_type": "code",
   "execution_count": null,
   "metadata": {},
   "outputs": [],
   "source": [
    "arg_names = list(btc_train.columns)\n",
    "vol_args = [arg for arg in arg_names if \"volume\" in arg.lower()]\n",
    "dol_args = [arg for arg in arg_names if \"volume\" not in arg.lower()]"
   ]
  },
  {
   "cell_type": "code",
   "execution_count": null,
   "metadata": {},
   "outputs": [],
   "source": [
    "# --- CREATE PRIMITIVE SETS AND TOOLS -----\n",
    "\n",
    "n_args=len(arg_names)\n",
    "pset = gp.PrimitiveSetTyped(\"main\",[Volume]*len(vol_args) + [Dollar]*len(dol_args),bool)\n",
    "#Rename the arguments:\n",
    "arg_vol_mapping = {f\"ARG{ind}\": val for ind,val in enumerate(vol_args)}\n",
    "pset.renameArguments(**arg_vol_mapping)\n",
    "arg_dol_mapping = {f\"ARG{len(vol_args)+ind}\": val for ind,val in enumerate(dol_args)}\n",
    "pset.renameArguments(**arg_dol_mapping)\n",
    "#Check that all arguments were renamed:\n",
    "unnamed_args=[i for i in pset.arguments if \"ARG\" in i]\n",
    "if  unnamed_args:\n",
    "    print(f\"Some arguments were not renamed: {unnamed_args}\")\n",
    "pset.addPrimitive(gt, [Dollar,Dollar],bool)\n",
    "pset.addPrimitive(lambda x:x ,[Dollar],Dollar, name=\"dollar placeholder\")\n",
    "\n",
    "pset.addPrimitive(gt, [Volume,Volume],bool)\n",
    "pset.addPrimitive(lambda x:x ,[Volume],Volume, name=\"volume placeholder\")\n",
    "\n",
    "\n",
    "#Boolean operators:\n",
    "pset.addPrimitive(and_, [bool,bool],bool)\n",
    "pset.addPrimitive(or_,[bool,bool],bool)\n",
    "\n",
    "for v_arg in vol_args:\n",
    "        pset.addTerminal(v_arg,Volume)\n",
    "for d_arg in dol_args:\n",
    "        pset.addTerminal(d_arg,Dollar)\n",
    "\n",
    "# --- Remove all the ARG terminals ---\n",
    "pset.terminals[Volume] = [i for i in pset.terminals[Volume] if \"ARG\" not in i.name]\n",
    "pset.terminals[Dollar] = [i for i in pset.terminals[Dollar] if \"ARG\" not in i.name]"
   ]
  },
  {
   "cell_type": "markdown",
   "metadata": {},
   "source": [
    "### Run the GP:"
   ]
  },
  {
   "cell_type": "code",
   "execution_count": null,
   "metadata": {},
   "outputs": [],
   "source": [
    "def generate(pset):\n",
    "    run=True\n",
    "    while run:\n",
    "        try:\n",
    "            expr = toolbox.individual()            \n",
    "            #Remove all the Lambda functions:\n",
    "            expr=  list(filter(lambda x: x.name!=\"dollar placeholder\", expr))\n",
    "            expr=  list(filter(lambda x: x.name!=\"volume placeholder\", expr))\n",
    "            if len(expr)>3:\n",
    "                run=False\n",
    "        except IndexError:\n",
    "            continue\n",
    "    # return gp.PrimitiveTree(expr)\n",
    "    return creator.Individual(expr)"
   ]
  },
  {
   "cell_type": "code",
   "execution_count": null,
   "metadata": {},
   "outputs": [],
   "source": [
    "# --- GP OPERATORS ----\n",
    "\n",
    "creator.create(\"fitness\", base.Fitness, weights=(1,))\n",
    "creator.create(\"Individual\", gp.PrimitiveTree, fitness= creator.fitness)\n",
    "\n",
    "toolbox = base.Toolbox()\n",
    "toolbox.register(\"expr\", gp.genHalfAndHalf, pset=pset, min_=1, max_=5)\n",
    "toolbox.register(\"individual\", tools.initIterate, creator.Individual, toolbox.expr)\n",
    "toolbox.register(\"custom_individual\",generate, pset)\n",
    "toolbox.register(\"population\", tools.initRepeat, list, toolbox.custom_individual)\n",
    "\n",
    "expr1 = toolbox.custom_individual()\n",
    "expr1\n",
    "\n",
    "plot_tree(expr1)"
   ]
  },
  {
   "cell_type": "code",
   "execution_count": null,
   "metadata": {},
   "outputs": [],
   "source": [
    "pop = toolbox.population(n=20)\n",
    "pop"
   ]
  },
  {
   "cell_type": "code",
   "execution_count": null,
   "metadata": {},
   "outputs": [],
   "source": [
    "def cxSubTree(ind1,ind2):\n",
    "    def get_sub_trees(ind):\n",
    "        \"\"\"\"Create a dictionary containing the terminal sub-trees and the their starting index in the decision tree.\"\"\"\n",
    "        ind_subs = []\n",
    "        for i in range(0,len(ind)):\n",
    "            if [elem.arity for elem in ind][i:i+3]==[2,0,0]:\n",
    "                ind_subs.append({\n",
    "                    \"start_index\":i,\n",
    "                    \"primitive\":[elem for elem in ind][i:i+3]\n",
    "                    })\n",
    "        return ind_subs\n",
    "\n",
    "    r1 = random.randrange(0,len(get_sub_trees(ind1)))\n",
    "    r2 = random.randrange(0,len(get_sub_trees(ind2)))\n",
    "\n",
    "    i1= get_sub_trees(ind1)[r1][\"start_index\"]\n",
    "    i2= get_sub_trees(ind2)[r2][\"start_index\"]\n",
    "\n",
    "    ind1c = ind1.copy()\n",
    "    ind1[i1:i1+3] = get_sub_trees(ind2)[r2][\"primitive\"]\n",
    "    ind2[i2:i2+3] = get_sub_trees(ind1c)[r1][\"primitive\"]\n",
    "\n",
    "    return ind1, ind2"
   ]
  },
  {
   "cell_type": "markdown",
   "metadata": {},
   "source": [
    "## Building Out trading strategy:\n",
    "\n",
    "Assume purchases are done at the \"Open\" price of following day:"
   ]
  },
  {
   "cell_type": "code",
   "execution_count": null,
   "metadata": {},
   "outputs": [],
   "source": [
    "signal_df = pd.DataFrame(index = btc_train.index)\n",
    "signal_df[\"Open\"] = btc_train['Open']"
   ]
  },
  {
   "cell_type": "markdown",
   "metadata": {},
   "source": [
    "## Calculate the MDD of a trade:"
   ]
  },
  {
   "cell_type": "code",
   "execution_count": null,
   "metadata": {},
   "outputs": [],
   "source": [
    "expr=pop[2]\n",
    "expr1=pop[3]\n",
    "\n",
    "ind=len(expr)-6\n",
    "print(str(gp.PrimitiveTree(expr)))\n",
    "print(str(gp.PrimitiveTree(expr[ind:])))\n",
    "print([i.name for i in expr])\n",
    "print([type(i) for i in expr])\n",
    "print([i.arity for i in expr[ind:]])\n",
    "plot_tree(expr,name=\"tree\")\n",
    "s=len(expr)\n",
    "\n",
    "print(\"\\n\",'--'*30)\n",
    "\n",
    "ind1=4\n",
    "print(str(gp.PrimitiveTree(expr1)))\n",
    "print(str(gp.PrimitiveTree(expr1[ind1:])))\n",
    "print([i.name for i in expr1])\n",
    "print([type(i) for i in expr1])\n",
    "print([i.arity for i in expr[ind1:]])\n",
    "plot_tree(expr1,name=\"tree1\")\n",
    "\n",
    "s1=len(expr1)"
   ]
  },
  {
   "cell_type": "code",
   "execution_count": null,
   "metadata": {},
   "outputs": [],
   "source": [
    "cross = len(expr)-3\n",
    "print([type(i) for i in expr[cross:]][:2])"
   ]
  },
  {
   "cell_type": "code",
   "execution_count": null,
   "metadata": {},
   "outputs": [],
   "source": [
    "expr=pop[1]\n",
    "expr1=pop[3]\n",
    "sl = 1\n",
    "cross = s-sl\n",
    "cross1= s1-sl\n",
    "print([i.name for i in expr[-sl:]])\n",
    "\n",
    "print([i.name for i in expr1[-sl:]])\n",
    "\n",
    "\n",
    "print([type(i) for i in expr[-sl:]] == [type(i) for i in expr1[-sl:]])\n",
    "expr2 = expr.copy()\n",
    "expr2[-sl:]=expr1[cross1:]\n",
    "print(str(gp.PrimitiveTree(expr2)))\n",
    "\n",
    "type(expr[2]) == type(expr1[3])\n",
    "plot_tree(expr2, name=\"offspring\")"
   ]
  },
  {
   "cell_type": "code",
   "execution_count": null,
   "metadata": {},
   "outputs": [],
   "source": [
    "import deap\n",
    "ind =5\n",
    "print(expr[ind:] )\n",
    "print([i for i in expr[ind:] if type(i)==deap.gp.Primitive])\n",
    "print(str(gp.PrimitiveTree(expr[ind:])))\n",
    "print('-'*40)\n",
    "print(expr1[ind:] )\n",
    "print([i for i in expr1[ind:] if type(i)==deap.gp.Primitive])\n",
    "print(str(gp.PrimitiveTree(expr1[ind:])))\n",
    "\n",
    "if not [i for i in expr[ind:] if type(i)==deap.gp.Primitive] and not [i for i in expr1[ind:] if type(i)==deap.gp.Primitive]:\n",
    "    print(True)\n",
    "else:\n",
    "    print(False)\n"
   ]
  },
  {
   "cell_type": "markdown",
   "metadata": {},
   "source": [
    "## Maximum theoretical profit:"
   ]
  },
  {
   "cell_type": "code",
   "execution_count": null,
   "metadata": {},
   "outputs": [],
   "source": [
    "\n",
    "mtv = maximum_theoretical_value(df = btc_train)\n",
    "mtv"
   ]
  },
  {
   "cell_type": "code",
   "execution_count": null,
   "metadata": {},
   "outputs": [],
   "source": [
    "from deap import base, creator, tools, gp, algorithms"
   ]
  },
  {
   "cell_type": "code",
   "execution_count": null,
   "metadata": {},
   "outputs": [],
   "source": [
    "toolbox.register(\"evaluate\", fitness_function, df=btc_train, tc=0.01, pset=pset)"
   ]
  },
  {
   "cell_type": "code",
   "execution_count": null,
   "metadata": {},
   "outputs": [],
   "source": [
    "#Mutate entire branch:\n",
    "def mutBranch(individual, pset, max_per_mutate=50):\n",
    "    \"\"\"Replaces a randomly chosen primitive from *individual* by a randomly\n",
    "    chosen primitive with the same number of arguments from the :attr:`pset`\n",
    "    attribute of the individual.\n",
    "\n",
    "    :param individual: The normal or typed tree to be mutated.\n",
    "    :returns: A tuple of one tree.\n",
    "    \"\"\"\n",
    "    if len(individual) < 2:\n",
    "        return individual,\n",
    "\n",
    "    if (max_per_mutate*len(individual)/100) > 1 :\n",
    "        \"If the percentage of nodes that may be mutated is more than one randomly get the index.\"\n",
    "        index=0\n",
    "        while (len(individual) - index) > (max_per_mutate*len(individual)/100):\n",
    "            \"Ensure that maximum mutation portion is not exceeded.\"\n",
    "            index = random.randrange(1, len(individual))\n",
    "    else:\n",
    "        index = len(individual)\n",
    "    \n",
    "    for i in range(index,len(individual)):\n",
    "        node = individual[i]\n",
    "        if node.arity == 0:  # Terminal\n",
    "            term = random.choice(pset.terminals[node.ret])\n",
    "            individual[i] = term\n",
    "        else:  # Primitive\n",
    "            prims = [p for p in pset.primitives[node.ret] if p.args == node.args]\n",
    "            individual[i] = random.choice(prims)\n",
    "\n",
    "    return individual,\n",
    "\n",
    "def mutation_half(individual,mut_per, pset):\n",
    "    if random.random()<0.5:\n",
    "        return gp.mutNodeReplacement(individual, pset = pset)\n",
    "    else:\n",
    "        return mutBranch(individual, max_per_mutate = mut_per, pset=pset)"
   ]
  },
  {
   "cell_type": "code",
   "execution_count": null,
   "metadata": {},
   "outputs": [],
   "source": [
    "toolbox.register(\"mate\",       cxSubTree)\n",
    "toolbox.register(\"select\",     tools.selRanked) \n",
    "toolbox.register(\"mutate\",     mutation_half, pset=pset)"
   ]
  },
  {
   "cell_type": "code",
   "execution_count": null,
   "metadata": {},
   "outputs": [],
   "source": [
    "hof   = tools.HallOfFame(maxsize=50)\n",
    "stats = tools.Statistics(lambda ind: ind.fitness.values)\n",
    "stats.register(\"avg\", np.mean, axis=0) \n",
    "stats.register(\"std\", np.std, axis=0)\n",
    "stats.register(\"min\", np.min, axis=0)\n",
    "stats.register(\"max\", np.max, axis=0)\n",
    "\n",
    "# pop, logbook = algorithms.eaSimple(pop, toolbox,cxpb=0.7, mutpb=0.7, ngen=ngen, stats = stats, halloffame =hof)"
   ]
  },
  {
   "cell_type": "code",
   "execution_count": null,
   "metadata": {},
   "outputs": [],
   "source": [
    "from operator import attrgetter\n",
    "def GPAlgo(population, \n",
    "           toolbox, cxpb, \n",
    "           mutpb, ngen, \n",
    "           elite_pop_size, \n",
    "           stats=None,\n",
    "            halloffame=None, \n",
    "            verbose=__debug__\n",
    "            ):\n",
    "    logbook = tools.Logbook()\n",
    "    logbook.header = ['gen', 'nevals'] + (stats.fields if stats else [])\n",
    "\n",
    "    # Evaluate the individuals with an invalid fitness\n",
    "    invalid_ind = [ind for ind in population if not ind.fitness.valid]\n",
    "    fitnesses = toolbox.map(toolbox.evaluate, invalid_ind)\n",
    "    for ind, fit in zip(invalid_ind, fitnesses):\n",
    "        ind.fitness.values = fit\n",
    "\n",
    "    if halloffame is not None:\n",
    "        halloffame.update(population)\n",
    "\n",
    "    record = stats.compile(population) if stats else {}\n",
    "    logbook.record(gen=0, nevals=len(invalid_ind), **record)\n",
    "    if verbose:\n",
    "        print(logbook.stream)\n",
    "\n",
    "    store_generations = {}\n",
    "    # Begin the generational process\n",
    "    for gen in range(1, ngen + 1):\n",
    "        # Select the next generation individuals\n",
    "        offspring = toolbox.select(population, len(population)-elite_pop_size)\n",
    "\n",
    "        offspring = cross_mut(population=offspring, toolbox=toolbox, cxp = cxpb, mutpb=mutpb)\n",
    "\n",
    "        # Evaluate the individuals with an invalid fitness\n",
    "        invalid_ind = [ind for ind in offspring if not ind.fitness.valid]\n",
    "        fitnesses = toolbox.map(toolbox.evaluate, invalid_ind)\n",
    "        for ind, fit in zip(invalid_ind, fitnesses):\n",
    "            ind.fitness.values = fit\n",
    "\n",
    "        # Update the hall of fame with the generated individuals\n",
    "        if halloffame is not None:\n",
    "            halloffame.update(offspring)\n",
    "\n",
    "        # Replace the current population by the offspring\n",
    "        store_generations[f\"gen{gen}\"]={\n",
    "            \"pop\":population,\n",
    "            \"offspring\":offspring\n",
    "        }\n",
    "        population[:] = offspring\n",
    "\n",
    "        # Append the current generation statistics to the logbook\n",
    "        record = stats.compile(population) if stats else {}\n",
    "        logbook.record(gen=gen, nevals=len(invalid_ind), **record)\n",
    "        if verbose:\n",
    "            print(logbook.stream)\n",
    "\n",
    "    return population, logbook, store_generations"
   ]
  },
  {
   "cell_type": "code",
   "execution_count": null,
   "metadata": {},
   "outputs": [],
   "source": [
    "from operator import attrgetter\n",
    "len(sorted(pop, key=attrgetter(\"fitness\"), reverse=True)[:10])"
   ]
  },
  {
   "cell_type": "code",
   "execution_count": null,
   "metadata": {},
   "outputs": [],
   "source": [
    "population, logbook, store_generations = GPAlgo(\n",
    "    pop, \n",
    "    toolbox,\n",
    "    cxpb=0.7, \n",
    "    mutpb=0.6, \n",
    "    ngen=3, \n",
    "    elite_pop_size= 10,\n",
    "    stats = stats, \n",
    "    halloffame =hof\n",
    "    )"
   ]
  },
  {
   "cell_type": "code",
   "execution_count": null,
   "metadata": {},
   "outputs": [],
   "source": [
    "function = gp.compile(expr=gp.PrimitiveTree(pop[0]),pset=pset)\n",
    "function(df = btc_ts)"
   ]
  },
  {
   "cell_type": "code",
   "execution_count": null,
   "metadata": {},
   "outputs": [],
   "source": [
    "sum_same = []\n",
    "\n",
    "for i in store_generations:\n",
    "    same =[]\n",
    "    for  k in range(len(store_generations[i][\"pop\"])):\n",
    "        # print(store_generations[i][\"pop\"][k])\n",
    "        # print(store_generations[i][\"offspring\"][k])\n",
    "        is_same = (store_generations[i][\"offspring\"][k]==store_generations[i][\"pop\"] )\n",
    "        same.append(is_same)\n",
    "    pop_in_off = [ind in store_generations[i][\"offspring\"] for ind in store_generations[i][\"pop\"]]\n",
    "    print('',pop_in_off)\n",
    "    print(sum(pop_in_off))\n",
    "    # print(same) \n",
    "    print(sum(same))\n",
    "    print(\"----\"*10)\n",
    "    sum_same.append(sum(same))\n",
    "print(sum_same)"
   ]
  },
  {
   "cell_type": "code",
   "execution_count": null,
   "metadata": {},
   "outputs": [],
   "source": [
    "import matplotlib.pyplot as plt\n",
    "\n",
    "y = [i['max'] for i in logbook]\n",
    "plt.plot(range(len(y)), y,'r')\n",
    "plt.title(\"Maximum fitness of each generation.\")\n",
    "plt.xlabel(\"Generation number\")\n",
    "plt.ylabel(\"Maximum fitness\")\n",
    "date = pendulum.now().format('YYYY-MM-DD_hh-mm')\n",
    "plt.savefig(rf'{directory_path}\\graphs\\max_fitness\\max_fitness_{date}.png')"
   ]
  },
  {
   "cell_type": "code",
   "execution_count": null,
   "metadata": {},
   "outputs": [],
   "source": [
    "best_solution = hof.items[0]\n",
    "tc = 0.01\n",
    "print(\"TRAIN\")\n",
    "print(\"Buy and hold:\",(1000/btc_train.iloc[0]['Open'])*btc_train.iloc[-1]['Open']*(1-tc)**2)\n",
    "print(\"mtv         :\",maximum_theoretical_value(btc_train))\n",
    "print(\"strat value :\",trading_strat(individual = best_solution, df=btc_train,pset=pset)[0],'\\n')\n",
    "\n",
    "print(\"TEST\")\n",
    "print(\"Buy and hold:\",(1000/btc_test.iloc[0]['Open'])*btc_test.iloc[-1]['Open']*(1-tc)**2)\n",
    "print(\"mtv         :\",maximum_theoretical_value(btc_test))\n",
    "print(\"strat value :\",trading_strat(individual = best_solution, df=btc_test,pset=pset)[0])"
   ]
  },
  {
   "cell_type": "code",
   "execution_count": null,
   "metadata": {},
   "outputs": [],
   "source": [
    "plot_tree(best_solution)"
   ]
  },
  {
   "cell_type": "code",
   "execution_count": null,
   "metadata": {},
   "outputs": [],
   "source": [
    "#Check best solution:\n",
    "print(str(best_solution))\n",
    "plot_tree(expr = best_solution,\n",
    "          name=f\"tree_best_solution_{pendulum.now().format(\"MM-DD_HH-mm-ss\")}\")\n",
    "function = gp.compile(expr=gp.PrimitiveTree(best_solution),pset=pset)\n",
    "signal_df  = pd.DataFrame(index=btc_ts.index)\n",
    "signal_df['Signal'] = function(df = btc_ts)\n",
    "signal_df[\"Open\"] = btc_ts['Open']\n",
    "plt.figure(figsize=(15,7))\n",
    "# btc_ts['Open'].plot()\n",
    "x_btc = list(btc_ts.index)\n",
    "y_btc = list(btc_ts['Open'])\n",
    "\n",
    "x_sig = list(signal_df[signal_df['Signal']].index)\n",
    "y_sig= list(signal_df[signal_df['Signal']]['Open'])\n",
    "plt.plot(x_btc,y_btc,'k')\n",
    "plt.plot(x_sig,y_sig,'y')\n",
    "\n",
    "plt.figure(figsize=(15,7))\n",
    "# plt.plot(x_btc[-500:],y_btc[-500:],'k')\n",
    "# plt.plot(x_sig[-500:],y_sig[-500:],'y')"
   ]
  },
  {
   "cell_type": "code",
   "execution_count": null,
   "metadata": {},
   "outputs": [],
   "source": [
    "# Get random Profit\n",
    "def random_trading(df, val = 1000):\n",
    "    ts_val = [val]\n",
    "    ts_df = pd.DataFrame(columns = [\"value\"])\n",
    "    long=False\n",
    "\n",
    "    for cnt,row in enumerate(df['Open'].to_frame().iterrows()):\n",
    "        gd = random.random()\n",
    "        if  gd<1/3:\n",
    "            \"Try to buy for 33% of the time\"\n",
    "            if long:\n",
    "                pass\n",
    "            else:\n",
    "                shares = ((1-tc)*val)/row[1]['Open']\n",
    "                long=True\n",
    "        elif gd <2/3:\n",
    "            if long:\n",
    "                val = (1-tc)*shares*row[1]['Open']\n",
    "                long=False\n",
    "            else:\n",
    "                pass       \n",
    "        else:\n",
    "            pass\n",
    "            \n",
    "            long=False\n",
    "        if cnt == len(df) and long:\n",
    "            val = shares*row[1]['Open']\n",
    "        ts_val.append(val)\n",
    "        ts_df.loc[row[0]] = val\n",
    "    return val, ts_val, ts_df\n"
   ]
  },
  {
   "cell_type": "code",
   "execution_count": null,
   "metadata": {},
   "outputs": [],
   "source": [
    "val_r, ts_val_r, ts_df_r = random_trading(btc_ts)\n",
    "print(\"Random trading strategy value: \",val_r)\n",
    "ts_df_r.plot()"
   ]
  },
  {
   "cell_type": "code",
   "execution_count": null,
   "metadata": {},
   "outputs": [],
   "source": [
    "btc_train_open = btc_train['Open']\n",
    "x = btc_train_open.reset_index()['Open']\n",
    "\n",
    "# Get peaks and troughs\n",
    "peaks, _ = find_peaks(x)\n",
    "troughs, _ = find_peaks(-x)\n",
    "\n",
    "peaks_troughs = list(peaks)+list(troughs)\n",
    "#Add the enedpoints to the local maximum and minimums.\n",
    "if 0 not in peaks_troughs:\n",
    "    peaks_troughs.append(0)\n",
    "if len(btc_train_open)-1 not in peaks_troughs:\n",
    "    peaks_troughs.append(len(btc_train_open)-1)\n",
    "\n",
    "peaks_troughs = sorted(peaks_troughs)\n",
    "peaks_troughs\n",
    "\n",
    "#Work out maximum theoretical value using an initial investement of $1000 by default.\n",
    "profit=0\n",
    "val = 1000\n",
    "no_tc_val = 1000\n",
    "for ind,price in enumerate(btc_train_open.iloc[peaks_troughs]):\n",
    "    if ind>1 and price > btc_train_open.iloc[peaks_troughs].iloc[ind-1]:\n",
    "        # Calculate \n",
    "        pot_val= (val*price/btc_train_open.iloc[peaks_troughs].iloc[ind-1])*(1-tc)**2\n",
    "        if pot_val>val:\n",
    "            val=pot_val        \n",
    "# no_tc\n",
    "if ind>1 and price > btc_train_open.iloc[peaks_troughs].iloc[ind-1]:\n",
    "    no_tc_val = (no_tc_val*price/btc_train_open.iloc[peaks_troughs].iloc[ind-1])\n",
    "\n",
    "val"
   ]
  },
  {
   "cell_type": "code",
   "execution_count": null,
   "metadata": {},
   "outputs": [],
   "source": [
    "eth_ts = yf.Ticker(\"ETH-USD\").history(start='2016-01-01', end='2023-06-30')\n",
    "\n",
    "base_columns_list = ['Open', 'High', 'Low', 'Close', 'Volume']\n",
    "\n",
    "for column in base_columns_list:\n",
    "    for lag in range(2,50):\n",
    "        create_ma_columns(df = eth_ts,column=column, lag = lag)\n",
    "    for lag in range(1,50):\n",
    "        create_lagged_columns(df = eth_ts,column=column, lag = lag)\n",
    "    for lag in range(10):\n",
    "        create_percentage_of_value(df = eth_ts,column=column)\n",
    "\n",
    "print(\"TEST ETH\")\n",
    "print(\"Buy and hold:\",(1000/eth_ts.iloc[0]['Open'])*eth_ts.iloc[-1]['Open']*(1-tc)**2)\n",
    "print(\"mtv         :\",maximum_theoretical_value(eth_ts))\n",
    "print(\"strat value :\",trading_strat(individual = best_solution, df=eth_ts, pset=pset)[0])"
   ]
  },
  {
   "cell_type": "code",
   "execution_count": null,
   "metadata": {},
   "outputs": [],
   "source": [
    "importlib.reload(fitness_functions)"
   ]
  },
  {
   "cell_type": "code",
   "execution_count": null,
   "metadata": {},
   "outputs": [],
   "source": [
    "pd.DataFrame({\"Population\":[[i.name for i in ind] for ind in hof.__dict__['items']]}).to_csv(rf\"{directory_path}\\hall_of_fame\\hof1.csv\")"
   ]
  },
  {
   "cell_type": "code",
   "execution_count": null,
   "metadata": {},
   "outputs": [],
   "source": [
    "pset.primitives"
   ]
  },
  {
   "cell_type": "code",
   "execution_count": null,
   "metadata": {},
   "outputs": [],
   "source": [
    "deap.tools.support.HallOfFame"
   ]
  },
  {
   "cell_type": "code",
   "execution_count": null,
   "metadata": {},
   "outputs": [],
   "source": [
    "logbook"
   ]
  },
  {
   "cell_type": "code",
   "execution_count": null,
   "metadata": {},
   "outputs": [],
   "source": [
    "import pickle\n",
    "\n",
    "with open(\".\\hall_of_fame\\hof.pkl\", 'wb') as file:\n",
    "    # Serialize the object and write it to the file\n",
    "    pickle.dump(hof, file)\n"
   ]
  },
  {
   "cell_type": "code",
   "execution_count": null,
   "metadata": {},
   "outputs": [],
   "source": [
    "hof.items"
   ]
  },
  {
   "cell_type": "code",
   "execution_count": null,
   "metadata": {},
   "outputs": [],
   "source": [
    "import os\n",
    "date = pendulum.now().format('YYYY-MM-DD_hh-mm')\n",
    "folder_name = rf'.\\results\\run_{date}'\n",
    "os.makedirs(folder_name)"
   ]
  },
  {
   "cell_type": "code",
   "execution_count": null,
   "metadata": {},
   "outputs": [],
   "source": [
    "t1 = pendulum.now()"
   ]
  },
  {
   "cell_type": "code",
   "execution_count": null,
   "metadata": {},
   "outputs": [],
   "source": [
    "t2=pendulum.now()"
   ]
  },
  {
   "cell_type": "code",
   "execution_count": null,
   "metadata": {},
   "outputs": [],
   "source": [
    "(t2-t1).seconds"
   ]
  },
  {
   "cell_type": "code",
   "execution_count": null,
   "metadata": {},
   "outputs": [],
   "source": [
    "str(hof.items[1])"
   ]
  },
  {
   "cell_type": "code",
   "execution_count": null,
   "metadata": {},
   "outputs": [],
   "source": [
    "pendulum.now().format(\"YYYYMMDD_hh-mm\")\n"
   ]
  },
  {
   "cell_type": "code",
   "execution_count": null,
   "metadata": {},
   "outputs": [],
   "source": [
    "te=None\n",
    "f\"jdjhfjajh{te}152454\""
   ]
  },
  {
   "cell_type": "code",
   "execution_count": null,
   "metadata": {},
   "outputs": [],
   "source": [
    "from operator import attrgetter"
   ]
  },
  {
   "cell_type": "code",
   "execution_count": null,
   "metadata": {},
   "outputs": [],
   "source": [
    "s_inds = sorted(pop, key=attrgetter('fitness'), reverse=True)\n",
    "s_inds_ranked=[]\n",
    "for val, indi in enumerate(s_inds):\n",
    "    s_inds_ranked.append((len(s_inds)-val,indi))\n",
    "\n",
    "sum_s_inds = sum([i[0] for i in s_inds_ranked])\n",
    "chosen = []\n",
    "for i in range(len(pop)):\n",
    "    u = random.random() * sum_s_inds\n",
    "    sum_ = 0\n",
    "    for ind in s_inds_ranked:\n",
    "        sum_ += ind[0]\n",
    "        if sum_ > u:\n",
    "            chosen.append(ind)\n",
    "            break\n",
    "print(np.mean([i[0] for i in chosen]))\n",
    "print([i[0] for i in chosen])"
   ]
  },
  {
   "cell_type": "code",
   "execution_count": null,
   "metadata": {},
   "outputs": [],
   "source": [
    "np.mean([1,2,34])"
   ]
  },
  {
   "cell_type": "code",
   "execution_count": null,
   "metadata": {},
   "outputs": [],
   "source": [
    "[i[0] for i in s_inds_ranked]"
   ]
  },
  {
   "cell_type": "code",
   "execution_count": null,
   "metadata": {},
   "outputs": [],
   "source": [
    "[1,2,4,5]+[89,100]"
   ]
  },
  {
   "cell_type": "code",
   "execution_count": null,
   "metadata": {},
   "outputs": [],
   "source": [
    "from operator import attrgetter"
   ]
  },
  {
   "cell_type": "code",
   "execution_count": null,
   "metadata": {},
   "outputs": [],
   "source": [
    "# toolbox = base.Toolbox()\n",
    "# toolbox.register(\"expr\", gp.genHalfAndHalf, pset=pset, min_=1, max_=5)\n",
    "# toolbox.register(\"individual\", tools.initIterate, creator.Individual, toolbox.expr)\n",
    "# toolbox.register(\"custom_individual\",generate, pset)\n",
    "# toolbox.register(\"population\", tools.initRepeat, list, toolbox.custom_individual)\n",
    "\n",
    "population = toolbox.population(n=50)\n",
    "cxpb=0.7, \n",
    "mutpb=0.6, \n",
    "ngen=2, \n",
    "elite_pop_size= 10,\n",
    "\n",
    "offspring = toolbox.select(population, len(population)-elite_pop_size)\n",
    "elite_pop = sorted(pop, key=attrgetter(\"fitness\"), reverse=True)[:elite_pop_size]\n",
    "# offspring = [toolbox.clone(ind) for ind in population]\n",
    "offspring = elite_pop + offspring\n",
    "\n",
    "# Apply crossover and mutation on the offspring\n",
    "for i in range(elite_pop_size+1, len(offspring)):\n",
    "    if random.random() < cxpb:\n",
    "        bi = random.randint(elite_pop_size+1, len(offspring)-1)\n",
    "        t1,t2 = toolbox.mate(offspring[bi],offspring[i])\n",
    "        print(t1 ==offspring[bi], t2 ==offspring[i])\n",
    "        del offspring[bi].fitness.values, offspring[i].fitness.values\n",
    "\n",
    "for i in range(elite_pop_size+1, len(offspring)):\n",
    "    if random.random() < mutpb:\n",
    "        mut_per = ((ngen+1-gen)/(ngen+1-gen))*100\n",
    "        # print(\"Before Mut:\",str(gp.PrimitiveTree(offspring[i])))\n",
    "        offspring[i], = toolbox.mutate(offspring[i], mut_per=mut_per)\n",
    "        # print(\"After Mut:\",str(gp.PrimitiveTree(offspring[i])))\n",
    "        del offspring[i].fitness.values\n",
    "\n",
    "elits_check = []\n",
    "for ind,val in enumerate(population):\n",
    "    elits_check.append(val == offspring[ind])\n",
    "# print(elits_check)\n",
    "print(sum(elits_check))"
   ]
  },
  {
   "cell_type": "code",
   "execution_count": null,
   "metadata": {},
   "outputs": [],
   "source": [
    "offspring = toolbox.select(population, len(population)-elite_pop_size)\n",
    "toolbox.mate(offspring[10],offspring[15])"
   ]
  },
  {
   "cell_type": "code",
   "execution_count": null,
   "metadata": {},
   "outputs": [],
   "source": []
  }
 ],
 "metadata": {
  "kernelspec": {
   "display_name": ".venv",
   "language": "python",
   "name": "python3"
  },
  "language_info": {
   "codemirror_mode": {
    "name": "ipython",
    "version": 3
   },
   "file_extension": ".py",
   "mimetype": "text/x-python",
   "name": "python",
   "nbconvert_exporter": "python",
   "pygments_lexer": "ipython3",
   "version": "3.12.2"
  }
 },
 "nbformat": 4,
 "nbformat_minor": 2
}
