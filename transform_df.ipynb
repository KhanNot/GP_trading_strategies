{
 "cells": [
  {
   "cell_type": "code",
   "execution_count": 6,
   "metadata": {},
   "outputs": [],
   "source": [
    "import yfinance as yf\n",
    "import pandas as pd"
   ]
  },
  {
   "cell_type": "code",
   "execution_count": 5,
   "metadata": {},
   "outputs": [
    {
     "data": {
      "text/plain": [
       "Date\n",
       "2023-01-01 00:00:00+00:00    16547.914062\n",
       "2023-01-02 00:00:00+00:00    16625.509766\n",
       "2023-01-03 00:00:00+00:00    16688.847656\n",
       "2023-01-04 00:00:00+00:00    16680.205078\n",
       "2023-01-05 00:00:00+00:00    16863.472656\n",
       "Name: Open, dtype: float64"
      ]
     },
     "execution_count": 5,
     "metadata": {},
     "output_type": "execute_result"
    }
   ],
   "source": [
    "btc_ts = yf.Ticker(\"BTC-USD\").history(start='2023-01-01', end='2023-01-20')\n",
    "btc_ts_open = btc_ts['Open']\n",
    "btc_ts_open.head(5)\n"
   ]
  },
  {
   "cell_type": "code",
   "execution_count": null,
   "metadata": {},
   "outputs": [],
   "source": [
    "def create_ma_columns(df,column, lag):\n",
    "    df[f\"ma_{column}_{lag}\"]= df[column]."
   ]
  }
 ],
 "metadata": {
  "kernelspec": {
   "display_name": ".venv",
   "language": "python",
   "name": "python3"
  },
  "language_info": {
   "codemirror_mode": {
    "name": "ipython",
    "version": 3
   },
   "file_extension": ".py",
   "mimetype": "text/x-python",
   "name": "python",
   "nbconvert_exporter": "python",
   "pygments_lexer": "ipython3",
   "version": "3.12.4"
  }
 },
 "nbformat": 4,
 "nbformat_minor": 2
}
