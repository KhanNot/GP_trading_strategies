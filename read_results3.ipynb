{
 "cells": [
  {
   "cell_type": "code",
   "execution_count": 1,
   "metadata": {},
   "outputs": [],
   "source": [
    "import pickle\n",
    "import pandas as pd\n",
    "import os\n",
    "import yfinance as yf\n",
    "from utils.plot_decision_trees import plot_tree\n",
    "\n",
    "\n",
    "from utils.pre_process_data import get_data\n",
    "from math import ceil\n",
    "from utils.units import Volume, Dollar\n",
    "from deap import gp, creator, base, tools\n",
    "from deap.gp import Terminal\n",
    "from operator import or_, and_, gt\n",
    "from fitness_functions import *\n",
    "from utils.plot_decision_trees import plot_tree\n",
    "from utils.save_info import save_results\n",
    "from genetic_functions.cx_functions import cxSubTree\n",
    "from genetic_functions.mut_functions import mutation_half, mutBranch\n",
    "from genetic_functions.genetic_program import GPAlgo\n",
    "import matplotlib.pyplot as plt\n",
    "import pendulum\n"
   ]
  },
  {
   "cell_type": "code",
   "execution_count": null,
   "metadata": {},
   "outputs": [],
   "source": [
    "eth_ts = get_data(\n",
    "        ticker = \"ETH-USD\", \n",
    "        start='2016-01-01', \n",
    "        end='2024-06-30',\n",
    "        ma_lags = 50,\n",
    "        lag_lags = 50,\n",
    "        pers_col_num = 10\n",
    "    )"
   ]
  },
  {
   "cell_type": "code",
   "execution_count": null,
   "metadata": {},
   "outputs": [],
   "source": [
    "df = get_data()\n",
    "df_train= df.iloc[ : ceil(len(df)*0.7)]\n",
    "df_test= df.iloc[ceil(len(df)*0.7) : ]\n",
    "\n",
    "arg_names = list(df_train.columns)\n",
    "vol_args = [arg for arg in arg_names if \"volume\" in arg.lower()]\n",
    "dol_args = [arg for arg in arg_names if \"volume\" not in arg.lower()]\n",
    "\n",
    "\n",
    "pset = gp.PrimitiveSetTyped(\"main\",[Volume]*len(vol_args) + [Dollar]*len(dol_args),bool)\n",
    "        #Rename the arguments:\n",
    "arg_vol_mapping = {f\"ARG{ind}\": val for ind,val in enumerate(vol_args)}\n",
    "pset.renameArguments(**arg_vol_mapping)\n",
    "arg_dol_mapping = {f\"ARG{len(vol_args)+ind}\": val for ind,val in enumerate(dol_args)}\n",
    "pset.renameArguments(**arg_dol_mapping)\n",
    "#Check that all arguments were renamed:\n",
    "unnamed_args=[i for i in pset.arguments if \"ARG\" in i]\n",
    "if  unnamed_args:\n",
    "    print(f\"Some arguments were not renamed: {unnamed_args}\")\n",
    "pset.addPrimitive(gt, [Dollar,Dollar],bool)\n",
    "pset.addPrimitive(lambda x:x ,[Dollar],Dollar, name=\"dollar placeholder\")\n",
    "\n",
    "pset.addPrimitive(gt, [Volume,Volume],bool)\n",
    "pset.addPrimitive(lambda x:x ,[Volume],Volume, name=\"volume placeholder\")\n",
    "\n",
    "\n",
    "#Boolean operators:\n",
    "pset.addPrimitive(and_, [bool,bool],bool)\n",
    "pset.addPrimitive(or_,[bool,bool],bool)\n",
    "\n",
    "for v_arg in vol_args:\n",
    "        pset.addTerminal(v_arg,Volume)\n",
    "for d_arg in dol_args:\n",
    "        pset.addTerminal(d_arg,Dollar)\n",
    "\n",
    "# --- Remove all the ARG terminals ---\n",
    "pset.terminals[Volume] = [i for i in pset.terminals[Volume] if \"ARG\" not in i.name]\n",
    "pset.terminals[Dollar] = [i for i in pset.terminals[Dollar] if \"ARG\" not in i.name]\n",
    "\n",
    "def generate(pset):\n",
    "    run=True\n",
    "    while run:\n",
    "        try:\n",
    "            expr = toolbox.individual()            \n",
    "            #Remove all the Lambda functions:\n",
    "            expr=  list(filter(lambda x: x.name!=\"dollar placeholder\", expr))\n",
    "            expr=  list(filter(lambda x: x.name!=\"volume placeholder\", expr))\n",
    "            if len(expr)>3:\n",
    "                run=False\n",
    "        except IndexError:\n",
    "            continue\n",
    "    # return gp.PrimitiveTree(expr)\n",
    "    return creator.Individual(expr)\n",
    "\n",
    "# --- GP OPERATORS ----\n",
    "\n",
    "creator.create(\"fitness\", base.Fitness, weights=(1,))\n",
    "creator.create(\"Individual\", gp.PrimitiveTree, fitness= creator.fitness)\n",
    "\n",
    "toolbox = base.Toolbox()\n",
    "toolbox.register(\"expr\", gp.genHalfAndHalf, pset=pset, min_=1, max_=5)\n",
    "toolbox.register(\"individual\", tools.initIterate, creator.Individual, toolbox.expr)\n",
    "toolbox.register(\"custom_individual\",generate, pset)\n",
    "toolbox.register(\"population\", tools.initRepeat, list, toolbox.custom_individual)\n",
    "toolbox.register(\"evaluate\", fitness_function, df=df_train, pset=pset)\n",
    "\n",
    "toolbox.register(\"mate\",       cxSubTree)\n",
    "toolbox.register(\"select\",     tools.selRanked) \n",
    "toolbox.register(\"mutate\",     mutation_half, pset=pset)\n",
    "\n",
    "hof   = tools.HallOfFame(maxsize=50)\n",
    "\n",
    "#STATS:\n",
    "stats = tools.Statistics(lambda ind: ind.fitness.values)\n",
    "stats.register(\"avg\", np.mean, axis=0) \n",
    "stats.register(\"std\", np.std, axis=0)\n",
    "stats.register(\"min\", np.min, axis=0)\n",
    "stats.register(\"max\", np.max, axis=0)"
   ]
  },
  {
   "cell_type": "code",
   "execution_count": 20,
   "metadata": {},
   "outputs": [],
   "source": [
    "population = []\n",
    "base_dir = r\"C:\\\\Users\\khann\\\\Documents\\\\OneDrive\\\\Final project\\\\GP_trading_strategies\\\\\"\n",
    "run_list = os.listdir(\"results_run3\")\n",
    "for dir in run_list:\n",
    "    if os.path.isdir(rf\"{base_dir}\\results_run3\\{dir}\") and \"run\" in dir:\n",
    "        with open(rf\"{base_dir}\\results_run3\\{dir}\\hof.pkl\", 'rb') as file:\n",
    "        # Serialize the object and write it to the file\n",
    "            try:\n",
    "                hof = pickle.load(file)\n",
    "                for i in range(4):\n",
    "                    population.append(hof[i])\n",
    "            except:\n",
    "                print(dir,\" File not found.\")\n",
    "\n",
    "# ADD IN GEN 2 results:\n",
    "run_list = os.listdir(\"results_run3_gen2\")\n",
    "for dir in run_list:\n",
    "    if os.path.isdir(rf\"{base_dir}\\results_run3_gen2\\{dir}\") and \"run\" in dir:\n",
    "        with open(rf\"{base_dir}\\results_run3_gen2\\{dir}\\hof.pkl\", 'rb') as file:\n",
    "        # Serialize the object and write it to the file\n",
    "            try:\n",
    "                hof = pickle.load(file)\n",
    "                for i in range(5):\n",
    "                    population.append(hof[i])\n",
    "            except:\n",
    "                print(dir,\" File not found.\")"
   ]
  },
  {
   "cell_type": "code",
   "execution_count": null,
   "metadata": {},
   "outputs": [],
   "source": [
    "base_dir\n",
    "rf\"{base_dir}\\results_run3_gen2\"\n"
   ]
  },
  {
   "cell_type": "code",
   "execution_count": 25,
   "metadata": {},
   "outputs": [],
   "source": [
    "# with open(r\"C:\\Users\\khann\\Documents\\Data Science and Financial Technology\\Final project\\GP_trading_strategies\\results_run2_gen3\\start_pop.pkl\", 'wb') as file:\n",
    "#     # Serialize the object and write it to the file\n",
    "#     pickle.dump(best_sol_pop, file)"
   ]
  },
  {
   "cell_type": "code",
   "execution_count": null,
   "metadata": {},
   "outputs": [],
   "source": [
    "len(population)"
   ]
  },
  {
   "cell_type": "code",
   "execution_count": null,
   "metadata": {},
   "outputs": [],
   "source": [
    "best_sol_pop"
   ]
  },
  {
   "cell_type": "code",
   "execution_count": null,
   "metadata": {},
   "outputs": [],
   "source": [
    "best_sol_pop = []\n",
    "for ind in population:\n",
    "    if best_sol_pop == []:\n",
    "        best_sol_pop.append(ind)\n",
    "    elif [i.fitness.values[0] for i in best_sol_pop].count(ind.fitness.values[0])==0:\n",
    "        best_sol_pop.append(ind)\n",
    "len(best_sol_pop)\n"
   ]
  },
  {
   "cell_type": "code",
   "execution_count": null,
   "metadata": {},
   "outputs": [],
   "source": [
    "best_sol_pop.sort(key = lambda x : x.fitness.values, reverse=True)\n",
    "print(len(best_sol_pop))"
   ]
  },
  {
   "cell_type": "code",
   "execution_count": null,
   "metadata": {},
   "outputs": [],
   "source": [
    "length_best_solution = [len(i) for i in best_sol_pop]\n",
    "plt.hist(\n",
    "    length_best_solution,\n",
    "    bins=10,\n",
    "    edgecolor='black',\n",
    "    color = '#87CEEB'\n",
    "    )\n",
    "plt.title(\"Distribution of nodes across the trading strategy decision trees.\")\n",
    "plt.ylabel(\"Count\"); plt.xlabel(\"Number of nodes in the decision tree.\")"
   ]
  },
  {
   "cell_type": "code",
   "execution_count": null,
   "metadata": {},
   "outputs": [],
   "source": [
    "per_list = []\n",
    "for k in best_sol_pop:\n",
    "    per = [i.split(\"_\")[-1] for i in str(k).split(\"'\") if \"percentage\" in i]\n",
    "    if per:\n",
    "        per_list.append(per)\n",
    "print(set([i[0] for i in per_list]))"
   ]
  },
  {
   "cell_type": "code",
   "execution_count": null,
   "metadata": {},
   "outputs": [],
   "source": [
    "12677-3199"
   ]
  },
  {
   "cell_type": "code",
   "execution_count": 10,
   "metadata": {},
   "outputs": [],
   "source": [
    "\n",
    "# with open(rf\"\\home\\khann\\masters\\results\\run2_2024-08-09_09-20\\logbook.pkl\", 'rb') as file:\n",
    "# # Serialize the object and write it to the file\n",
    "#     logbook = pickle.load(file)\n",
    "\n",
    "# with open(rf\"\\home\\khann\\masters\\results\\run2_2024-08-09_09-20\\hof.pkl\", 'rb') as file:\n",
    "# # Serialize the object and write it to the file\n",
    "#     hof2 = pickle.load(file)"
   ]
  },
  {
   "cell_type": "code",
   "execution_count": 11,
   "metadata": {},
   "outputs": [],
   "source": [
    "# max_lst = []\n",
    "# for i in logbook:\n",
    "#     max_lst.append(i['max'])\n",
    "# x=range(0,len(max_lst))"
   ]
  },
  {
   "cell_type": "code",
   "execution_count": 12,
   "metadata": {},
   "outputs": [],
   "source": [
    "bs = best_sol_pop[:20]\n",
    "lst_bsp_test = []\n",
    "lst_bsp_train = []\n",
    "\n",
    "for i in bs:\n",
    "    lst_bsp_test.append(trading_strat(individual = i, df=df_test,pset=pset)[:2])\n",
    "    lst_bsp_train.append(trading_strat(individual = i, df=df_train ,pset=pset)[:2])\n",
    "    "
   ]
  },
  {
   "cell_type": "code",
   "execution_count": null,
   "metadata": {},
   "outputs": [],
   "source": [
    "print(df_train['Open'].iloc[-1])\n",
    "print(df_train['Open'].iloc[0])\n",
    "\n",
    "df_train['Open'].iloc[-1]-df_train['Open'].iloc[0]"
   ]
  },
  {
   "cell_type": "code",
   "execution_count": null,
   "metadata": {},
   "outputs": [],
   "source": [
    "[(i.fitness.values)[0] for i in best_sol_pop]"
   ]
  },
  {
   "cell_type": "code",
   "execution_count": null,
   "metadata": {},
   "outputs": [],
   "source": [
    "len(best_sol_pop)"
   ]
  },
  {
   "cell_type": "code",
   "execution_count": null,
   "metadata": {},
   "outputs": [],
   "source": [
    "fitness_plot = best_sol_pop\n",
    "plt.figure(figsize = (8,5))\n",
    "plt.plot(range(1,len(fitness_plot)+1),[(i.fitness.values)[0] for i in fitness_plot],'r.')\n",
    "plt.title(\"Fitness values of the strategies.\")\n",
    "plt.xlabel(\"Trading Strategy Number\")\n",
    "plt.ylabel(\"Fitness Value\")"
   ]
  },
  {
   "cell_type": "code",
   "execution_count": null,
   "metadata": {},
   "outputs": [],
   "source": [
    "plt.figure(figsize=(15,7))\n",
    "plt.title(\"Fitness Values of the top 20 trading strategies on the Test set.\")\n",
    "plt.plot(range(1,len(bs)+1),[i[0] for i in lst_bsp_test],'r.', label = \"Final Portfolio Value\")\n",
    "plt.plot(range(1,len(bs)+1),[i[1] for i in lst_bsp_test],'b.', label='MDD')\n",
    "plt.plot(range(1,len(bs)+1),[i[0]+i[1]  for i in lst_bsp_test],'k', label=\"Fitness Value\")\n",
    "plt.legend()\n",
    "plt.xlabel(\"Trading Strategy Number\")\n",
    "plt.ylabel(\"$\")"
   ]
  },
  {
   "cell_type": "code",
   "execution_count": null,
   "metadata": {},
   "outputs": [],
   "source": [
    "plt.figure(figsize=(15,7))\n",
    "plt.plot(range(1,len(bs)+1),[i[0] for i in lst_bsp_train],'r.')\n",
    "plt.plot(range(1,len(bs)+1),[i[1] for i in lst_bsp_train],'b.')\n",
    "plt.plot(range(1,len(bs)+1),[i[0]+i[1]  for i in lst_bsp_train],'k')"
   ]
  },
  {
   "cell_type": "code",
   "execution_count": null,
   "metadata": {},
   "outputs": [],
   "source": [
    "def get_macd_value(df, val = 1000 , tc = 0.01):\n",
    "    val_ts=[val]\n",
    "    long=False\n",
    "\n",
    "    # Add the required columns to the DF:\n",
    "    df['ema12'] = df['Open'].ewm(span=12, adjust = False).mean()\n",
    "    df['ema26'] = df['Open'].ewm(span=26, adjust = False).mean()\n",
    "    df['macd'] = df['ema12'] - df['ema26']\n",
    "    df['signal_line'] = df['macd'].ewm(span = 9, adjust=False).mean()\n",
    "    \n",
    "    df['macd_above'] = (df['macd'] - df['signal_line'])>0\n",
    "    df['macd_above_lagged'] = df['macd_above'] .shift(1)\n",
    "\n",
    "    #Impliment the trading strategy:\n",
    "    for cnt, row in enumerate(df[['Open','macd_above','macd_above_lagged']].iterrows()):\n",
    "        if (row[1]['macd_above']==True)  and (row[1]['macd_above_lagged']==False) and long==False:\n",
    "            shares = ((1-tc)*val)/row[1]['Open']\n",
    "            long=True\n",
    "        elif (row[1]['macd_above']==False)  and (row[1]['macd_above_lagged']==True) and long==True:\n",
    "            val = (1-tc)*shares*row[1]['Open']\n",
    "            val_ts.append(val)\n",
    "            long=False\n",
    "        if cnt == len(df) and long:\n",
    "            val = shares*row[1]['Open']\n",
    "            val_ts.append(val)\n",
    "    return val, val_ts\n",
    "\n",
    "macd_test_val, macd_test_val_ts = get_macd_value(df = df_test)\n",
    "macd_train_val, macd_train_val_ts = get_macd_value(df = df_train)"
   ]
  },
  {
   "cell_type": "code",
   "execution_count": null,
   "metadata": {},
   "outputs": [],
   "source": [
    "[i.fitness.values for i in best_sol_pop][:20]"
   ]
  },
  {
   "cell_type": "code",
   "execution_count": 21,
   "metadata": {},
   "outputs": [],
   "source": [
    "tc = 0.01\n",
    "#Test data\n",
    "test_df = pd.DataFrame(columns=[\"Buy and Hold\",\"Evolved Trading Strategy\",\"MACD Trading Strategy\"])\n",
    "for ind,bs in enumerate(best_sol_pop):\n",
    "    test_results = {\n",
    "        \"Buy and Hold\":(1000/df_test.iloc[0]['Open'])*df_test.iloc[-1]['Open']*(1-tc)**2,\n",
    "        \"Evolved Trading Strategy\":trading_strat(individual = bs, df=df_test,pset=pset)[0],\n",
    "        \"MACD Trading Strategy\": macd_test_val,\n",
    "    }\n",
    "    test_df.loc[ind] = test_results"
   ]
  },
  {
   "cell_type": "code",
   "execution_count": null,
   "metadata": {},
   "outputs": [],
   "source": [
    "test_df.plot(\n",
    "    title = \"Performance of the trading strategies on the test dataset.\",\n",
    "    xlabel = \"Stratgy number\", \n",
    "    ylabel = \"Final portfolio value\",\n",
    "    color = [\"black\",\"red\",\"blue\"])"
   ]
  },
  {
   "cell_type": "code",
   "execution_count": null,
   "metadata": {},
   "outputs": [],
   "source": [
    "tc = 0.01\n",
    "#Train data\n",
    "train_df = pd.DataFrame(columns=[\"Buy and Hold\",\"Evolved Trading Strategy\",\"MACD Trading Strategy\"])\n",
    "for ind,bs in enumerate(best_sol_pop):\n",
    "    train_results = {\n",
    "        \"Buy and Hold\":(1000/df_train.iloc[0]['Open'])*df_train.iloc[-1]['Open']*(1-tc)**2,\n",
    "        \"Evolved Trading Strategy\":trading_strat(individual = bs, df=df_train,pset=pset)[0],\n",
    "        \"MACD Trading Strategy\": macd_train_val\n",
    "    }\n",
    "    train_df.loc[ind] = train_results\n",
    "train_df.plot(\n",
    "    title = \"Performance of the trading strategies on the testing dataset.\",\n",
    "    xlabel = \"Stratgy number\", \n",
    "    ylabel = \"Final portfolio value\",\n",
    "    color = [\"black\",\"red\",\"blue\"]\n",
    "    )"
   ]
  },
  {
   "cell_type": "code",
   "execution_count": null,
   "metadata": {},
   "outputs": [],
   "source": [
    "df_test['Open'].plot()"
   ]
  },
  {
   "cell_type": "code",
   "execution_count": 23,
   "metadata": {},
   "outputs": [],
   "source": [
    "# DEFINE BUY-AND-HOLD:\n",
    "def buy_and_hold(df,strat):\n",
    "    val, mdd, ts_val, trade_rows = trading_strat(individual =strat, df=df,pset=pset, ret_trade_row=True)\n",
    "    bh_val_ts = [1000]\n",
    "    shares = 1000/df.iloc[0]['Open']\n",
    "    for ind, row in enumerate(trade_rows):\n",
    "        if ind!= len(trade_rows)-1:\n",
    "            bh_val_ts.append(shares*df.loc[row[0]]['Open']*(1-tc)**2)\n",
    "        else:\n",
    "            bh_val_ts.append(shares*df.iloc[-1]['Open']*(1-tc)**2)\n",
    "    return bh_val_ts\n"
   ]
  },
  {
   "cell_type": "code",
   "execution_count": null,
   "metadata": {},
   "outputs": [],
   "source": [
    "fig, ax = plt.subplots(ncols = 3, nrows = 10, figsize = (15,15))\n",
    "ax[0,0].title.set_text(\"Bitcoin Training Data\")\n",
    "ax[0,0].set_ylabel(\"Portfolio \\nValue.\")\n",
    "ax[0,0].set_xlabel(\"Trade number.\")\n",
    "ax[0,1].title.set_text(\"Bitcoin Testing Data\")\n",
    "ax[0,2].title.set_text(\"Ethereum Testing Data\")\n",
    "\n",
    "#---buy and hold ----\n",
    "train_bs_end=[]\n",
    "tc=0.01\n",
    "train_bah = [1000,(1000/df_train.iloc[0]['Open'])*df_train.iloc[-1]['Open']*(1-tc)**2]\n",
    "test_bah = [1000,(1000/df_test.iloc[0]['Open'])*df_test.iloc[-1]['Open']*(1-tc)**2]\n",
    "eth_bah = [1000,(1000/eth_ts.iloc[0]['Open'])*eth_ts.iloc[-1]['Open']*(1-tc)**2]\n",
    "\n",
    "for ind in range(10):\n",
    "    train_ts = trading_strat(individual = best_sol_pop[ind], df=df_train,pset=pset)[2]\n",
    "    test_ts = trading_strat(individual = best_sol_pop[ind], df=df_test,pset=pset)[2]\n",
    "    eth_trade_ts = trading_strat(individual = best_sol_pop[ind], df=eth_ts,pset=pset)[2]\n",
    "\n",
    "    train_bh_ts = buy_and_hold(df=df_train ,strat = best_sol_pop[ind])\n",
    "    train_bs_end.append(train_bh_ts[-1])\n",
    "    test_bh_ts = buy_and_hold(df=df_test ,strat = best_sol_pop[ind])\n",
    "    eth_bh_ts = buy_and_hold(df=eth_ts ,strat = best_sol_pop[ind])\n",
    "\n",
    "    # ax[ind,0].scatter([0,len(train_ts)-1],train_bah,c='k')\n",
    "    ax[ind,0].plot(range(len(train_ts)),train_ts,color='b')\n",
    "    ax[ind,0].plot(range(len(train_bh_ts)), train_bh_ts,color='k',alpha=0.7, linestyle='dashed')\n",
    "\n",
    "    \n",
    "\n",
    "    if ind!=0:\n",
    "        ax[ind,0].text(-0.2, 0.5, f\"{ind}\", va='center', ha='center', transform=ax[ind,0].transAxes,fontsize=12, color='white', fontweight='bold',\n",
    "                        bbox=dict(facecolor='grey', edgecolor='none', boxstyle='round,pad=0.5'))\n",
    "    \n",
    "    if len(test_ts)>1:\n",
    "        ax[ind,1].plot(range(len(test_bh_ts)), test_bh_ts,color='k',alpha=0.7, linestyle='dashed')\n",
    "        ax[ind,1].plot(range(len(test_ts)),test_ts,color='r')\n",
    "    else:\n",
    "        ax[ind,1].plot([0,1],[1000,1000],color='r', alpha=0.5)\n",
    "\n",
    "    ax[ind,2].plot(range(len(eth_trade_ts)),eth_trade_ts, color='r')\n",
    "    ax[ind,2].plot(range(len(eth_bh_ts)), eth_bh_ts,color='k',alpha=0.7, linestyle='dashed')\n",
    "\n",
    "plt.tight_layout()\n"
   ]
  },
  {
   "cell_type": "code",
   "execution_count": null,
   "metadata": {},
   "outputs": [],
   "source": [
    "fig, ax = plt.subplots(ncols = 3, nrows = 1, figsize = (15,2))\n",
    "ax[0].title.set_text(\"Bitcoin Training Data\")\n",
    "ax[0].set_ylabel(\"Portfolio \\nValue.\")\n",
    "ax[0].set_xlabel(\"Trade number.\")\n",
    "ax[1].title.set_text(\"Bitcoin Testing Data\")\n",
    "ax[2].title.set_text(\"Ethereum Testing Data\")\n",
    "#STrat #86\n",
    "ind= 0\n",
    "train_ts = trading_strat(individual = best_sol_pop[86], df=df_train,pset=pset)[2]\n",
    "test_ts = trading_strat(individual = best_sol_pop[86], df=df_test,pset=pset)[2]\n",
    "eth_trade_ts = trading_strat(individual = best_sol_pop[86], df=eth_ts,pset=pset)[2]\n",
    "\n",
    "train_bh_ts = buy_and_hold(df=df_train ,strat = best_sol_pop[86])\n",
    "test_bh_ts = buy_and_hold(df=df_test ,strat = best_sol_pop[86])\n",
    "eth_bh_ts = buy_and_hold(df=eth_ts ,strat = best_sol_pop[86])\n",
    "\n",
    "ax[0].plot(range(len(train_ts)),train_ts,color='b')\n",
    "ax[0].plot(range(len(train_bh_ts)), train_bh_ts,color='k',alpha=0.7, linestyle='dashed')\n",
    "\n",
    "ax[0].text(-0.2, 1.2, \"86\", va='center', ha='center', transform=ax[0].transAxes,fontsize=12, color='white', fontweight='bold',\n",
    "                        bbox=dict(facecolor='grey', edgecolor='none', boxstyle='round,pad=0.5'))\n",
    "    \n",
    "\n",
    "if len(test_ts)>1:\n",
    "    ax[1].plot(range(len(test_bh_ts)), test_bh_ts,color='k',alpha=0.7, linestyle='dashed')\n",
    "    ax[1].plot(range(len(test_ts)),test_ts,color='r')\n",
    "else:\n",
    "    ax[1].plot([0,1],[1000,1000],color='r', alpha=0.5)\n",
    "\n",
    "ax[2].plot(range(len(eth_bh_ts)), eth_bh_ts,color='k',alpha=0.7, linestyle='dashed')\n",
    "ax[2].plot(range(len(eth_trade_ts)),eth_trade_ts, color='r')\n",
    "\n",
    "plt.tight_layout()"
   ]
  },
  {
   "cell_type": "code",
   "execution_count": null,
   "metadata": {},
   "outputs": [],
   "source": [
    "tc = 0.01\n",
    "macd_eth_val, macd_eth_val_ts = get_macd_value(df = eth_ts)\n",
    "\n",
    "#ETH data\n",
    "eth_df = pd.DataFrame(columns=[\"Buy and Hold\",\"Evolved Trading Strategy\",\"MACD Trading Strategy\"])\n",
    "for ind,bs in enumerate(best_sol_pop):\n",
    "    train_results = {\n",
    "        \"Buy and Hold\":(1000/eth_ts.iloc[0]['Open'])*eth_ts.iloc[-1]['Open']*(1-tc)**2,\n",
    "        \"Evolved Trading Strategy\":trading_strat(individual = bs, df=eth_ts,pset=pset)[0],\n",
    "        \"MACD Trading Strategy\": macd_eth_val\n",
    "    }\n",
    "    eth_df.loc[ind] = train_results\n",
    "eth_df.plot(\n",
    "    title = \"Performance of the trading strategies on the Ethereum dataset.\",\n",
    "    xlabel = \"Stratgy number\", \n",
    "    ylabel = \"Final portfolio value\",\n",
    "    color = [\"black\",\"red\",\"blue\"]\n",
    "    )"
   ]
  },
  {
   "cell_type": "code",
   "execution_count": 70,
   "metadata": {},
   "outputs": [],
   "source": [
    "res_table = pd.DataFrame(columns = [\"Trading Strategy\",\"Bitcoin test\", \"Bitcoin train\", \"Ethereum\"])\n",
    "table_list = [\n",
    "    {\"Trading Strategy\":\"Buy-and-Hold\",\"Bitcoin train\": train_df['Buy and Hold'].iloc[0] , \"Bitcoin test\":test_df['Buy and Hold'].iloc[0],\"Ethereum\":eth_df['Buy and Hold'].iloc[0]},\n",
    "    {\"Trading Strategy\":\"MACD Trading Strategy\",\"Bitcoin train\":train_df['MACD Trading Strategy'].iloc[0], \"Bitcoin test\": test_df['MACD Trading Strategy'].iloc[0],\"Ethereum\":eth_df['MACD Trading Strategy'].iloc[0]}\n",
    "    ]\n",
    "iterate_list = list(range(0,96))\n",
    "# iterate_list.append(86)\n",
    "for i in iterate_list:\n",
    "    table_list.append({\n",
    "        \"Trading Strategy\":f\"Evolve strategy {i}\",\n",
    "        \"Bitcoin train\":train_df[\"Evolved Trading Strategy\"].iloc[i], \n",
    "        \"Bitcoin test\": test_df[\"Evolved Trading Strategy\"].iloc[i],\n",
    "        \"Ethereum\":eth_df[\"Evolved Trading Strategy\"].iloc[i]\n",
    "        })\n",
    "res_table = pd.DataFrame(table_list)\n",
    "res_table.set_index(\"Trading Strategy\", inplace = True)\n",
    "res_table\n",
    "res_table.to_csv(\"Overal_result_table_v2.csv\")"
   ]
  },
  {
   "cell_type": "code",
   "execution_count": 30,
   "metadata": {},
   "outputs": [],
   "source": [
    "list(range(0,10)).append(86)"
   ]
  },
  {
   "cell_type": "code",
   "execution_count": null,
   "metadata": {},
   "outputs": [],
   "source": [
    "test_df.head()"
   ]
  },
  {
   "cell_type": "code",
   "execution_count": null,
   "metadata": {},
   "outputs": [],
   "source": [
    "fig,ax = plt.subplots(ncols=3,nrows=1, figsize=(12,7))\n",
    "plt.suptitle(\"The final portfolio values of the evolved trading strategies compared \\nto the benchmark strategies for different datasets.\")\n",
    "train_df.plot(title = \"Bitcoin train dataset.\",xlabel = \"Stratgy number\", ylabel = \"Final portfolio value\", ax=ax[0], color=[\"black\",\"red\",\"blue\"])\n",
    "test_df.plot(title = \"Bitcoin test dataset.\", ax = ax[1], color=[\"black\",\"red\",\"blue\"],legend=False)\n",
    "eth_df.plot(title = \"Ethereum test dataset.\", ax = ax[2], color=[\"black\",\"red\",\"blue\"],legend=False)\n",
    "fig.subplots_adjust(top=0.83)\n",
    "plt.tight_layout()"
   ]
  },
  {
   "cell_type": "code",
   "execution_count": null,
   "metadata": {},
   "outputs": [],
   "source": [
    "eth_df[eth_df['Evolved Trading Strategy'] == eth_df['Evolved Trading Strategy'].max()]"
   ]
  },
  {
   "cell_type": "code",
   "execution_count": null,
   "metadata": {},
   "outputs": [],
   "source": [
    "best_solution = best_sol_pop[0]\n",
    "tc = 0.01\n",
    "print(\"TEST\")\n",
    "print(\"MACD: \", macd_test_val)\n",
    "print(\"Buy and hold:\",(1000/df_test.iloc[0]['Open'])*df_test.iloc[-1]['Open']*(1-tc)**2)\n",
    "print(\"mtv         :\",maximum_theoretical_value(df_test))\n",
    "print(\"strat value :\",trading_strat(individual = best_solution, df=df_test,pset=pset)[0],'\\n')"
   ]
  },
  {
   "cell_type": "code",
   "execution_count": null,
   "metadata": {},
   "outputs": [],
   "source": [
    "tc = 0.01\n",
    "print(\"TRAIN\")\n",
    "print(\"MACD: \", macd_train_val)\n",
    "print(\"Buy and hold:\",(1000/df_train.iloc[0]['Open'])*df_train.iloc[-1]['Open']*(1-tc)**2)\n",
    "print(\"mtv         :\",maximum_theoretical_value(df_train))\n",
    "print(\"strat value :\",trading_strat(individual = best_solution, df=df_train,pset=pset)[0],'\\n')"
   ]
  },
  {
   "cell_type": "code",
   "execution_count": null,
   "metadata": {},
   "outputs": [],
   "source": [
    "print(\"TRAIN\")\n",
    "print(\"MACD: \", macd_train_val)\n",
    "print(\"Buy and hold:\",(1000/eth_ts.iloc[0]['Open'])*eth_ts.iloc[-1]['Open']*(1-tc)**2)\n",
    "print(\"mtv         :\",maximum_theoretical_value(eth_ts))\n",
    "print(\"strat value :\",trading_strat(individual = best_solution, df=eth_ts,pset=pset)[0],'\\n')"
   ]
  },
  {
   "cell_type": "code",
   "execution_count": null,
   "metadata": {},
   "outputs": [],
   "source": [
    "\n",
    "eth_bh_ts = buy_and_hold(df=eth_ts ,strat = best_sol_pop[8])\n",
    "plt.plot(range(len(eth_bh_ts)), eth_bh_ts)"
   ]
  },
  {
   "cell_type": "code",
   "execution_count": null,
   "metadata": {},
   "outputs": [],
   "source": [
    "plt.figure(1)\n",
    "plt.plot(range(len(ts_val)), ts_val,'k')\n",
    "plt.plot(range(len(eth_bh_ts)), eth_bh_ts)"
   ]
  },
  {
   "cell_type": "code",
   "execution_count": null,
   "metadata": {},
   "outputs": [],
   "source": [
    "print(\"Buy and hold:\",(1000/df_train.iloc[0]['Open'])*df_train.iloc[-1]['Open']*(1-tc)**2)\n"
   ]
  },
  {
   "cell_type": "code",
   "execution_count": null,
   "metadata": {},
   "outputs": [],
   "source": [
    "plt.figure(figsize=(15,7))\n",
    "plt.plot(range(1,len(hof2)+1),[i[0] for i in lst_hof_test],'r.')\n",
    "plt.plot(range(1,len(hof2)+1),[i[1] for i in lst_hof_test],'b.')\n",
    "plt.plot(range(1,len(hof2)+1),[i[0]+i[1]  for i in lst_hof_test],'k.')\n",
    "\n",
    "\n",
    "plt.title(\"test data\")"
   ]
  },
  {
   "cell_type": "code",
   "execution_count": null,
   "metadata": {},
   "outputs": [],
   "source": [
    "[i[0]+i[1]  for i in lst_hof_test]"
   ]
  },
  {
   "cell_type": "code",
   "execution_count": null,
   "metadata": {},
   "outputs": [],
   "source": [
    "plt.figure(figsize=(15,7))\n",
    "plt.plot(range(1,len(hof2)+1),[i[0] for i in lst_hof_train],'r.')\n",
    "plt.plot(range(1,len(hof2)+1),[i[1] for i in lst_hof_train],'b.')\n",
    "plt.plot(range(1,len(hof2)+1),[i[0]-i[1] for i in lst_hof_train],'k.')\n",
    "\n",
    "\n",
    "plt.title(\"train data\")\n",
    "print([i[0]-i[1] for i in lst_hof_train])"
   ]
  },
  {
   "cell_type": "code",
   "execution_count": null,
   "metadata": {},
   "outputs": [],
   "source": [
    "with open(rf\"\\home\\khann\\masters\\results_run2\\run_2024-08-10_02-20\\hof.pkl\", 'rb') as file:\n",
    "        # Serialize the object and write it to the file\n",
    "            hof = pickle.load(file)"
   ]
  },
  {
   "cell_type": "code",
   "execution_count": 35,
   "metadata": {},
   "outputs": [],
   "source": [
    "lst_hof_test = []\n",
    "for i in hof.items:\n",
    "    lst_hof_test.append(trading_strat(individual = i, df=df_test,pset=pset)[:2])\n",
    "\n",
    "lst_hof_train = []\n",
    "for i in hof.items:\n",
    "    lst_hof_train.append(trading_strat(individual = i, df=df_train,pset=pset)[:2])"
   ]
  },
  {
   "cell_type": "code",
   "execution_count": null,
   "metadata": {},
   "outputs": [],
   "source": [
    "lst_hof_test"
   ]
  },
  {
   "cell_type": "code",
   "execution_count": null,
   "metadata": {},
   "outputs": [],
   "source": [
    "plt.figure(figsize=(15,7))\n",
    "plt.plot(range(1,len(hof)+1),[i[0] for i in lst_hof_test],'r.')\n",
    "plt.plot(range(1,len(hof)+1),[i[1] for i in lst_hof_test],'b.')\n",
    "plt.plot(range(1,len(hof)+1),[i[0]+i[1]  for i in lst_hof_test],'k.')"
   ]
  },
  {
   "cell_type": "code",
   "execution_count": null,
   "metadata": {},
   "outputs": [],
   "source": [
    "plt.figure(figsize=(15,7))\n",
    "plt.plot(range(1,len(hof)+1),[i[0] for i in lst_hof_train],'r.')\n",
    "plt.plot(range(1,len(hof)+1),[i[1] for i in lst_hof_train],'b.')\n",
    "plt.plot(range(1,len(hof)+1),[i[0]+i[1]  for i in lst_hof_train],'k.')"
   ]
  },
  {
   "cell_type": "code",
   "execution_count": null,
   "metadata": {},
   "outputs": [],
   "source": [
    "[i.fitness.values for i in hof.items]"
   ]
  },
  {
   "cell_type": "code",
   "execution_count": 40,
   "metadata": {},
   "outputs": [],
   "source": [
    "# import os\n",
    "# run_list = os.listdir(\"\\home\\khann\\masters\\results_run2_gen2\\start_pop\")\n",
    "# run_list"
   ]
  },
  {
   "cell_type": "code",
   "execution_count": 41,
   "metadata": {},
   "outputs": [],
   "source": [
    "# cnt=0\n",
    "# for dir in run_list:\n",
    "#     if os.path.isdir(rf\"\\home\\khann\\masters\\results_run2\\{dir}\"):\n",
    "#         if cnt == 0:\n",
    "#             df_tmp = pd.read_csv(rf\"\\home\\khann\\masters\\results_run2\\{dir}\\run_info.csv\")\n",
    "#             df_tmp.drop('Unnamed: 0',axis=1, inplace=True)\n",
    "#         else:\n",
    "#             d = pd.read_csv(rf\"\\home\\khann\\masters\\results_run2\\{dir}\\run_info.csv\")\n",
    "#             d.drop('Unnamed: 0',axis=1, inplace=True)\n",
    "#             df_tmp = pd.concat([df_tmp, d], ignore_index=True, sort=False)\n",
    "#         cnt+=1"
   ]
  },
  {
   "cell_type": "code",
   "execution_count": 42,
   "metadata": {},
   "outputs": [],
   "source": [
    "from deap import gp\n",
    "import pygraphviz as pgv\n",
    "\n",
    "def replace_labels(labels,old,new):\n",
    "    indices = [i for i, value in enumerate(list(labels.values())) if value == old]\n",
    "    for i in indices:\n",
    "        labels[i]=new\n",
    "    return labels\n",
    "\n",
    "def plot_tree(expr, name: str = \"tree\"):\n",
    "    nodes, edges, labels = gp.graph(expr)\n",
    "    labels = replace_labels(labels, 'or_','OR')\n",
    "    labels = replace_labels(labels, 'and_','AND')\n",
    "    labels = replace_labels(labels, 'gt','>')\n",
    "\n",
    "    g = pgv.AGraph(strict=False, directed=False)\n",
    "    g.add_nodes_from(nodes)\n",
    "    g.add_edges_from(edges)\n",
    "    g.graph_attr[\"ranksep\"] = \"0.1\"\n",
    "\n",
    "    # Improve node and label spacing and change the node shape to \"box\"\n",
    "    for i in nodes:\n",
    "        n = g.get_node(i)\n",
    "        n.attr[\"label\"] = labels[i]\n",
    "        n.attr[\"fontsize\"] = \"10\"  # Adjust font size for better readability\n",
    "        n.attr[\"fontname\"] = \"Arial Bold\" \n",
    "        n.attr[\"width\"] = \"0.5\"    # Adjust node width\n",
    "        n.attr[\"height\"] = \"0.05\"   # Adjust node height\n",
    "        n.attr[\"margin\"] = \"0.1\"   # Add margin to prevent label overlap within nodes\n",
    "        n.attr[\"shape\"] = \"box\"    # Set the shape of the node to \"box\" to encapsulate in a block\n",
    "        n.attr[\"style\"] = \"rounded\" # Optional: Use rounded corners for the box\n",
    "    for e in edges:\n",
    "        edge = g.get_edge(e[0], e[1])\n",
    "        edge.attr[\"arrowhead\"] = \"none\"  # Remove arrows, making it a line\n",
    "        edge.attr[\"penwidth\"] = \"1\" \n",
    "\n",
    "\n",
    "    # Use a suitable layout program to avoid overlapping (dot is usually good for trees)\n",
    "    g.layout(prog=\"dot\")\n",
    "\n",
    "    # Save the tree as an image\n",
    "    g.draw(rf\"./trees/{name}.png\")\n",
    "\n"
   ]
  },
  {
   "cell_type": "code",
   "execution_count": 43,
   "metadata": {},
   "outputs": [],
   "source": [
    "# for i in range(len(best_sol_pop)):\n",
    "#     plot_tree(best_sol_pop[i], name=f\"run3_final/bs_{i}\")"
   ]
  },
  {
   "cell_type": "markdown",
   "metadata": {},
   "source": [
    "# Individual results"
   ]
  },
  {
   "cell_type": "code",
   "execution_count": null,
   "metadata": {},
   "outputs": [],
   "source": [
    "trading_strat_summary_table = []\n",
    "for strat in [0,1,86]:\n",
    "    print(strat)\n",
    "    val_train, mdd_train, ts_val_train, trade_row_train = trading_strat(individual= best_sol_pop[strat], df = df_train, pset = pset, ret_trade_row=True)\n",
    "    val_test, mdd_test, ts_val_test, trade_row_test  = trading_strat(individual= best_sol_pop[strat], df = df_test, pset = pset, ret_trade_row=True)\n",
    "    val_eth, mdd_eth, ts_val_eth, trade_row_eth  = trading_strat(individual= best_sol_pop[strat], df = eth_ts, pset = pset, ret_trade_row=True)\n",
    "\n",
    "    trading_strat_summary_table.append({\"Dataset\":\"Bitcoin Training\",\"Buy-and-Hold Final Portfolio Value\": train_df['Buy and Hold'].iloc[0] , \"Final Portfolio value\":val_train,\"MDD\":mdd_train, \"Number of trades\": len(trade_row_train)})\n",
    "    trading_strat_summary_table.append({\"Dataset\":\"Bitcoin Testing\",\"Buy-and-Hold Final Portfolio Value\":test_df['Buy and Hold'].iloc[0] , \"Final Portfolio value\":val_test,\"MDD\":mdd_test, \"Number of trades\": len(trade_row_test)})\n",
    "    trading_strat_summary_table.append({\"Dataset\":\"Ethereum\", \"Buy-and-Hold Final Portfolio Value\":eth_df['Buy and Hold'].iloc[0] ,\"Final Portfolio value\":val_eth,\"MDD\":mdd_eth, \"Number of trades\": len(trade_row_eth)})\n",
    "\n",
    "best_2_strat_df = pd.DataFrame(trading_strat_summary_table)\n",
    "best_2_strat_df"
   ]
  },
  {
   "cell_type": "code",
   "execution_count": null,
   "metadata": {},
   "outputs": [],
   "source": [
    "best_2_strat_df.to_csv(\"Top_2_strat_details.csv\")"
   ]
  },
  {
   "cell_type": "code",
   "execution_count": null,
   "metadata": {},
   "outputs": [],
   "source": [
    "number_of_trades = []\n",
    "for tree in best_sol_pop:\n",
    "    val_train, mdd_train, ts_val_train, trade_row_train = trading_strat(individual= tree, df = df_train, pset = pset, ret_trade_row=True)\n",
    "    number_of_trades.append(len(trade_row_train))\n",
    "number_of_trades"
   ]
  },
  {
   "cell_type": "code",
   "execution_count": null,
   "metadata": {},
   "outputs": [],
   "source": [
    "max(length_best_solution)"
   ]
  },
  {
   "cell_type": "code",
   "execution_count": null,
   "metadata": {},
   "outputs": [],
   "source": [
    "number_of_trades"
   ]
  },
  {
   "cell_type": "code",
   "execution_count": null,
   "metadata": {},
   "outputs": [],
   "source": [
    "plt.scatter(x=length_best_solution, y=number_of_trades)"
   ]
  },
  {
   "cell_type": "code",
   "execution_count": null,
   "metadata": {},
   "outputs": [],
   "source": [
    "12/4.9"
   ]
  },
  {
   "cell_type": "code",
   "execution_count": null,
   "metadata": {},
   "outputs": [],
   "source": [
    "str(best_sol_pop[0])"
   ]
  },
  {
   "cell_type": "code",
   "execution_count": null,
   "metadata": {},
   "outputs": [],
   "source": [
    "eth_ts[\"strat_0_comp1\"] = eth_ts[\"ma_high_30\"]>eth_ts[\"ma_open_10\"]\n",
    "eth_ts[\"strat_0_comp2\"] = eth_ts[\"lag_high_26\"]>eth_ts[\"percentage_open_60\"]\n",
    "eth_ts[\"strat_0 tot\"] =  (eth_ts[\"strat_0_comp1\"].apply(int) + eth_ts[\"strat_0_comp2\"].apply(int)) > 0\n",
    "\n",
    "comp1_per = sum(eth_ts[\"strat_0_comp1\"])/sum(eth_ts[\"strat_0 tot\"])*100\n",
    "comp2_per = sum(eth_ts[\"strat_0_comp2\"])/sum(eth_ts[\"strat_0 tot\"])*100\n",
    "print(comp1_per)\n",
    "print(comp2_per)\n",
    "\n",
    "#\n",
    "print(sum(and_(eth_ts[\"strat_0_comp1\"],eth_ts[\"strat_0 tot\"]))/sum(eth_ts[\"strat_0 tot\"])*100)\n",
    "print(sum(and_(eth_ts[\"strat_0_comp2\"],eth_ts[\"strat_0 tot\"]))/sum(eth_ts[\"strat_0 tot\"])*100)\n",
    "print(sum(and_(eth_ts[\"strat_0_comp2\"],eth_ts[\"strat_0_comp1\"]))/sum(eth_ts[\"strat_0 tot\"])*100)\n",
    "print(\"Right not left\",sum(and_(eth_ts[\"strat_0_comp2\"],eth_ts[\"strat_0_comp1\"].apply(not_)))/sum(eth_ts[\"strat_0 tot\"])*100)\n",
    "print(\"Left not right:\",sum(and_(eth_ts[\"strat_0_comp1\"],eth_ts[\"strat_0_comp2\"].apply(not_)))/sum(eth_ts[\"strat_0 tot\"])*100)"
   ]
  },
  {
   "cell_type": "code",
   "execution_count": null,
   "metadata": {},
   "outputs": [],
   "source": [
    "eth_ts[\"strat_86_comp1\"] = eth_ts[\"ma_open_8\"]>eth_ts[\"ma_open_39\"]\n",
    "eth_ts[\"strat_86_comp2\"] = eth_ts[\"percentage_low_60\"]>eth_ts[\"lag_open_36\"]\n",
    "eth_ts[\"strat_86 tot\"] =  (eth_ts[\"strat_86_comp1\"].apply(int) + eth_ts[\"strat_86_comp2\"].apply(int)) > 0\n",
    "\n",
    "comp1_per = sum(eth_ts[\"strat_86_comp1\"])/sum(eth_ts[\"strat_86 tot\"])*100\n",
    "comp2_per = sum(eth_ts[\"strat_86_comp2\"])/sum(eth_ts[\"strat_86 tot\"])*100\n",
    "print(comp1_per)\n",
    "print(comp2_per)"
   ]
  },
  {
   "cell_type": "code",
   "execution_count": null,
   "metadata": {},
   "outputs": [],
   "source": [
    "print(sum(and_(eth_ts[\"strat_86_comp1\"],eth_ts[\"strat_86 tot\"]))/sum(eth_ts[\"strat_86 tot\"])*100)\n",
    "print(sum(and_(eth_ts[\"strat_86_comp2\"],eth_ts[\"strat_86 tot\"]))/sum(eth_ts[\"strat_86 tot\"])*100)\n",
    "print(sum(and_(eth_ts[\"strat_86_comp2\"],eth_ts[\"strat_86_comp1\"]))/sum(eth_ts[\"strat_86 tot\"])*100)\n",
    "print(\"Right not left\",sum(and_(eth_ts[\"strat_86_comp2\"],eth_ts[\"strat_86_comp1\"].apply(not_)))/sum(eth_ts[\"strat_86 tot\"])*100)\n",
    "print(\"Left not right:\",sum(and_(eth_ts[\"strat_86_comp1\"],eth_ts[\"strat_86_comp2\"].apply(not_)))/sum(eth_ts[\"strat_86 tot\"])*100)"
   ]
  },
  {
   "cell_type": "code",
   "execution_count": null,
   "metadata": {},
   "outputs": [],
   "source": [
    "str(best_sol_pop[1])"
   ]
  },
  {
   "cell_type": "code",
   "execution_count": null,
   "metadata": {},
   "outputs": [],
   "source": [
    "eth_ts[\"strat_1_comp1\"] = eth_ts[\"ma_volume_37\"]>eth_ts[\"ma_volume_22\"]\n",
    "eth_ts[\"strat_1_comp2\"] = eth_ts[\"ma_close_24\"]>eth_ts[\"ma_low_46\"]\n",
    "eth_ts[\"strat_1 tot\"] =  (eth_ts[\"strat_1_comp1\"].apply(int) + eth_ts[\"strat_1_comp2\"].apply(int)) > 0\n",
    "\n",
    "comp1_per = sum(eth_ts[\"strat_1_comp1\"])/sum(eth_ts[\"strat_1 tot\"])*100\n",
    "comp2_per = sum(eth_ts[\"strat_1_comp2\"])/sum(eth_ts[\"strat_1 tot\"])*100\n",
    "print(comp1_per)\n",
    "print(comp2_per)"
   ]
  },
  {
   "cell_type": "code",
   "execution_count": 55,
   "metadata": {},
   "outputs": [],
   "source": [
    "from operator import and_, not_"
   ]
  },
  {
   "cell_type": "code",
   "execution_count": null,
   "metadata": {},
   "outputs": [],
   "source": [
    "print(sum(and_(eth_ts[\"strat_1_comp1\"],eth_ts[\"strat_1 tot\"]))/sum(eth_ts[\"strat_1 tot\"])*100)\n",
    "print(sum(and_(eth_ts[\"strat_1_comp2\"],eth_ts[\"strat_1 tot\"]))/sum(eth_ts[\"strat_1 tot\"])*100)\n",
    "print(sum(and_(eth_ts[\"strat_1_comp2\"],eth_ts[\"strat_1_comp1\"]))/sum(eth_ts[\"strat_1 tot\"])*100)\n",
    "print(\"Right not left\",sum(and_(eth_ts[\"strat_1_comp2\"],eth_ts[\"strat_1_comp1\"].apply(not_)))/sum(eth_ts[\"strat_1 tot\"])*100)\n",
    "print(\"Left not right:\",sum(and_(eth_ts[\"strat_1_comp1\"],eth_ts[\"strat_1_comp2\"].apply(not_)))/sum(eth_ts[\"strat_1 tot\"])*100)"
   ]
  },
  {
   "cell_type": "code",
   "execution_count": null,
   "metadata": {},
   "outputs": [],
   "source": [
    "eth_ts[\"strat_1_comp1\"].apply(not_)"
   ]
  },
  {
   "cell_type": "code",
   "execution_count": null,
   "metadata": {},
   "outputs": [],
   "source": [
    "print(sum(eth_ts[\"strat_1 tot\"]))\n",
    "print(sum(eth_ts[\"strat_1_comp1\"]))\n",
    "print(sum(eth_ts[\"strat_1_comp2\"]))"
   ]
  },
  {
   "cell_type": "code",
   "execution_count": null,
   "metadata": {},
   "outputs": [],
   "source": [
    "len(eth_ts)"
   ]
  },
  {
   "cell_type": "code",
   "execution_count": null,
   "metadata": {},
   "outputs": [],
   "source": []
  },
  {
   "cell_type": "code",
   "execution_count": null,
   "metadata": {},
   "outputs": [],
   "source": []
  },
  {
   "cell_type": "code",
   "execution_count": null,
   "metadata": {},
   "outputs": [],
   "source": []
  },
  {
   "cell_type": "code",
   "execution_count": null,
   "metadata": {},
   "outputs": [],
   "source": []
  }
 ],
 "metadata": {
  "kernelspec": {
   "display_name": ".venv",
   "language": "python",
   "name": "python3"
  },
  "language_info": {
   "codemirror_mode": {
    "name": "ipython",
    "version": 3
   },
   "file_extension": ".py",
   "mimetype": "text/x-python",
   "name": "python",
   "nbconvert_exporter": "python",
   "pygments_lexer": "ipython3",
   "version": "3.12.4"
  }
 },
 "nbformat": 4,
 "nbformat_minor": 2
}
